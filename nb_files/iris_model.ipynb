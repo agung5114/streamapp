{
 "metadata": {
  "language_info": {
   "codemirror_mode": {
    "name": "ipython",
    "version": 3
   },
   "file_extension": ".py",
   "mimetype": "text/x-python",
   "name": "python",
   "nbconvert_exporter": "python",
   "pygments_lexer": "ipython3",
   "version": "3.8.2"
  },
  "orig_nbformat": 2,
  "kernelspec": {
   "name": "python3",
   "display_name": "Python 3.8.2 64-bit ('bcenv': venv)",
   "metadata": {
    "interpreter": {
     "hash": "71609f8d35f273a0ef7ca60e9df41c818e9b48ec52fee864a60a46b50fe05e24"
    }
   }
  }
 },
 "nbformat": 4,
 "nbformat_minor": 2,
 "cells": [
  {
   "cell_type": "code",
   "execution_count": 1,
   "metadata": {},
   "outputs": [],
   "source": [
    "import pandas as pd\n",
    "import numpy as np\n",
    "from matplotlib import pyplot as plt\n",
    "import plotly_express as px"
   ]
  },
  {
   "cell_type": "code",
   "execution_count": 2,
   "metadata": {},
   "outputs": [
    {
     "output_type": "stream",
     "name": "stdout",
     "text": [
      "Index(['sepal_length', 'sepal_width', 'petal_length', 'petal_width', 'species',\n       'species_id'],\n      dtype='object')\n"
     ]
    },
    {
     "output_type": "execute_result",
     "data": {
      "text/plain": [
       "['setosa', 'versicolor', 'virginica']"
      ]
     },
     "metadata": {},
     "execution_count": 2
    }
   ],
   "source": [
    "df = px.data.iris()\n",
    "all_dims = ['sepal_length', 'sepal_width', \n",
    "            'petal_length', 'petal_width']\n",
    "print(df.columns)\n",
    "spec = list(df['species'].unique())\n",
    "spec"
   ]
  },
  {
   "source": [
    "Matplotlib Plot"
   ],
   "cell_type": "markdown",
   "metadata": {}
  },
  {
   "cell_type": "code",
   "execution_count": 3,
   "metadata": {},
   "outputs": [
    {
     "output_type": "display_data",
     "data": {
      "text/plain": "<Figure size 432x288 with 1 Axes>",
      "image/svg+xml": "<?xml version=\"1.0\" encoding=\"utf-8\" standalone=\"no\"?>\r\n<!DOCTYPE svg PUBLIC \"-//W3C//DTD SVG 1.1//EN\"\r\n  \"http://www.w3.org/Graphics/SVG/1.1/DTD/svg11.dtd\">\r\n<svg height=\"250.670071pt\" version=\"1.1\" viewBox=\"0 0 373.291051 250.670071\" width=\"373.291051pt\" xmlns=\"http://www.w3.org/2000/svg\" xmlns:xlink=\"http://www.w3.org/1999/xlink\">\r\n <metadata>\r\n  <rdf:RDF xmlns:cc=\"http://creativecommons.org/ns#\" xmlns:dc=\"http://purl.org/dc/elements/1.1/\" xmlns:rdf=\"http://www.w3.org/1999/02/22-rdf-syntax-ns#\">\r\n   <cc:Work>\r\n    <dc:type rdf:resource=\"http://purl.org/dc/dcmitype/StillImage\"/>\r\n    <dc:date>2021-04-23T23:52:07.336780</dc:date>\r\n    <dc:format>image/svg+xml</dc:format>\r\n    <dc:creator>\r\n     <cc:Agent>\r\n      <dc:title>Matplotlib v3.4.1, https://matplotlib.org/</dc:title>\r\n     </cc:Agent>\r\n    </dc:creator>\r\n   </cc:Work>\r\n  </rdf:RDF>\r\n </metadata>\r\n <defs>\r\n  <style type=\"text/css\">*{stroke-linecap:butt;stroke-linejoin:round;}</style>\r\n </defs>\r\n <g id=\"figure_1\">\r\n  <g id=\"patch_1\">\r\n   <path d=\"M 0 250.670071 \r\nL 373.291051 250.670071 \r\nL 373.291051 0 \r\nL 0 0 \r\nz\r\n\" style=\"fill:none;\"/>\r\n  </g>\r\n  <g id=\"axes_1\">\r\n   <g id=\"patch_2\">\r\n    <path d=\"M 30.103125 226.791946 \r\nL 364.903125 226.791946 \r\nL 364.903125 9.351946 \r\nL 30.103125 9.351946 \r\nz\r\n\" style=\"fill:#ffffff;\"/>\r\n   </g>\r\n   <g id=\"PathCollection_1\">\r\n    <defs>\r\n     <path d=\"M 0 3 \r\nC 0.795609 3 1.55874 2.683901 2.12132 2.12132 \r\nC 2.683901 1.55874 3 0.795609 3 -0 \r\nC 3 -0.795609 2.683901 -1.55874 2.12132 -2.12132 \r\nC 1.55874 -2.683901 0.795609 -3 0 -3 \r\nC -0.795609 -3 -1.55874 -2.683901 -2.12132 -2.12132 \r\nC -2.683901 -1.55874 -3 -0.795609 -3 0 \r\nC -3 0.795609 -2.683901 1.55874 -2.12132 2.12132 \r\nC -1.55874 2.683901 -0.795609 3 0 3 \r\nz\r\n\" id=\"C0_0_70173773a6\"/>\r\n    </defs>\r\n    <g clip-path=\"url(#pab5be210bb)\">\r\n     <use style=\"fill:#440154;stroke:#440154;\" x=\"112.95767\" xlink:href=\"#C0_0_70173773a6\" y=\"93.362855\"/>\r\n    </g>\r\n    <g clip-path=\"url(#pab5be210bb)\">\r\n     <use style=\"fill:#440154;stroke:#440154;\" x=\"96.04858\" xlink:href=\"#C0_0_70173773a6\" y=\"134.544673\"/>\r\n    </g>\r\n    <g clip-path=\"url(#pab5be210bb)\">\r\n     <use style=\"fill:#440154;stroke:#440154;\" x=\"79.139489\" xlink:href=\"#C0_0_70173773a6\" y=\"118.071946\"/>\r\n    </g>\r\n    <g clip-path=\"url(#pab5be210bb)\">\r\n     <use style=\"fill:#440154;stroke:#440154;\" x=\"70.684943\" xlink:href=\"#C0_0_70173773a6\" y=\"126.30831\"/>\r\n    </g>\r\n    <g clip-path=\"url(#pab5be210bb)\">\r\n     <use style=\"fill:#440154;stroke:#440154;\" x=\"104.503125\" xlink:href=\"#C0_0_70173773a6\" y=\"85.126491\"/>\r\n    </g>\r\n    <g clip-path=\"url(#pab5be210bb)\">\r\n     <use style=\"fill:#440154;stroke:#440154;\" x=\"138.321307\" xlink:href=\"#C0_0_70173773a6\" y=\"60.417401\"/>\r\n    </g>\r\n    <g clip-path=\"url(#pab5be210bb)\">\r\n     <use style=\"fill:#440154;stroke:#440154;\" x=\"70.684943\" xlink:href=\"#C0_0_70173773a6\" y=\"101.599219\"/>\r\n    </g>\r\n    <g clip-path=\"url(#pab5be210bb)\">\r\n     <use style=\"fill:#440154;stroke:#440154;\" x=\"104.503125\" xlink:href=\"#C0_0_70173773a6\" y=\"101.599219\"/>\r\n    </g>\r\n    <g clip-path=\"url(#pab5be210bb)\">\r\n     <use style=\"fill:#440154;stroke:#440154;\" x=\"53.775852\" xlink:href=\"#C0_0_70173773a6\" y=\"142.781037\"/>\r\n    </g>\r\n    <g clip-path=\"url(#pab5be210bb)\">\r\n     <use style=\"fill:#440154;stroke:#440154;\" x=\"96.04858\" xlink:href=\"#C0_0_70173773a6\" y=\"126.30831\"/>\r\n    </g>\r\n    <g clip-path=\"url(#pab5be210bb)\">\r\n     <use style=\"fill:#440154;stroke:#440154;\" x=\"138.321307\" xlink:href=\"#C0_0_70173773a6\" y=\"76.890128\"/>\r\n    </g>\r\n    <g clip-path=\"url(#pab5be210bb)\">\r\n     <use style=\"fill:#440154;stroke:#440154;\" x=\"87.594034\" xlink:href=\"#C0_0_70173773a6\" y=\"101.599219\"/>\r\n    </g>\r\n    <g clip-path=\"url(#pab5be210bb)\">\r\n     <use style=\"fill:#440154;stroke:#440154;\" x=\"87.594034\" xlink:href=\"#C0_0_70173773a6\" y=\"134.544673\"/>\r\n    </g>\r\n    <g clip-path=\"url(#pab5be210bb)\">\r\n     <use style=\"fill:#440154;stroke:#440154;\" x=\"45.321307\" xlink:href=\"#C0_0_70173773a6\" y=\"134.544673\"/>\r\n    </g>\r\n    <g clip-path=\"url(#pab5be210bb)\">\r\n     <use style=\"fill:#440154;stroke:#440154;\" x=\"172.139489\" xlink:href=\"#C0_0_70173773a6\" y=\"52.181037\"/>\r\n    </g>\r\n    <g clip-path=\"url(#pab5be210bb)\">\r\n     <use style=\"fill:#440154;stroke:#440154;\" x=\"163.684943\" xlink:href=\"#C0_0_70173773a6\" y=\"19.235582\"/>\r\n    </g>\r\n    <g clip-path=\"url(#pab5be210bb)\">\r\n     <use style=\"fill:#440154;stroke:#440154;\" x=\"138.321307\" xlink:href=\"#C0_0_70173773a6\" y=\"60.417401\"/>\r\n    </g>\r\n    <g clip-path=\"url(#pab5be210bb)\">\r\n     <use style=\"fill:#440154;stroke:#440154;\" x=\"112.95767\" xlink:href=\"#C0_0_70173773a6\" y=\"93.362855\"/>\r\n    </g>\r\n    <g clip-path=\"url(#pab5be210bb)\">\r\n     <use style=\"fill:#440154;stroke:#440154;\" x=\"163.684943\" xlink:href=\"#C0_0_70173773a6\" y=\"68.653764\"/>\r\n    </g>\r\n    <g clip-path=\"url(#pab5be210bb)\">\r\n     <use style=\"fill:#440154;stroke:#440154;\" x=\"112.95767\" xlink:href=\"#C0_0_70173773a6\" y=\"68.653764\"/>\r\n    </g>\r\n    <g clip-path=\"url(#pab5be210bb)\">\r\n     <use style=\"fill:#440154;stroke:#440154;\" x=\"138.321307\" xlink:href=\"#C0_0_70173773a6\" y=\"101.599219\"/>\r\n    </g>\r\n    <g clip-path=\"url(#pab5be210bb)\">\r\n     <use style=\"fill:#440154;stroke:#440154;\" x=\"112.95767\" xlink:href=\"#C0_0_70173773a6\" y=\"76.890128\"/>\r\n    </g>\r\n    <g clip-path=\"url(#pab5be210bb)\">\r\n     <use style=\"fill:#440154;stroke:#440154;\" x=\"70.684943\" xlink:href=\"#C0_0_70173773a6\" y=\"85.126491\"/>\r\n    </g>\r\n    <g clip-path=\"url(#pab5be210bb)\">\r\n     <use style=\"fill:#440154;stroke:#440154;\" x=\"112.95767\" xlink:href=\"#C0_0_70173773a6\" y=\"109.835582\"/>\r\n    </g>\r\n    <g clip-path=\"url(#pab5be210bb)\">\r\n     <use style=\"fill:#440154;stroke:#440154;\" x=\"87.594034\" xlink:href=\"#C0_0_70173773a6\" y=\"101.599219\"/>\r\n    </g>\r\n    <g clip-path=\"url(#pab5be210bb)\">\r\n     <use style=\"fill:#440154;stroke:#440154;\" x=\"104.503125\" xlink:href=\"#C0_0_70173773a6\" y=\"134.544673\"/>\r\n    </g>\r\n    <g clip-path=\"url(#pab5be210bb)\">\r\n     <use style=\"fill:#440154;stroke:#440154;\" x=\"104.503125\" xlink:href=\"#C0_0_70173773a6\" y=\"101.599219\"/>\r\n    </g>\r\n    <g clip-path=\"url(#pab5be210bb)\">\r\n     <use style=\"fill:#440154;stroke:#440154;\" x=\"121.412216\" xlink:href=\"#C0_0_70173773a6\" y=\"93.362855\"/>\r\n    </g>\r\n    <g clip-path=\"url(#pab5be210bb)\">\r\n     <use style=\"fill:#440154;stroke:#440154;\" x=\"121.412216\" xlink:href=\"#C0_0_70173773a6\" y=\"101.599219\"/>\r\n    </g>\r\n    <g clip-path=\"url(#pab5be210bb)\">\r\n     <use style=\"fill:#440154;stroke:#440154;\" x=\"79.139489\" xlink:href=\"#C0_0_70173773a6\" y=\"118.071946\"/>\r\n    </g>\r\n    <g clip-path=\"url(#pab5be210bb)\">\r\n     <use style=\"fill:#440154;stroke:#440154;\" x=\"87.594034\" xlink:href=\"#C0_0_70173773a6\" y=\"126.30831\"/>\r\n    </g>\r\n    <g clip-path=\"url(#pab5be210bb)\">\r\n     <use style=\"fill:#440154;stroke:#440154;\" x=\"138.321307\" xlink:href=\"#C0_0_70173773a6\" y=\"101.599219\"/>\r\n    </g>\r\n    <g clip-path=\"url(#pab5be210bb)\">\r\n     <use style=\"fill:#440154;stroke:#440154;\" x=\"121.412216\" xlink:href=\"#C0_0_70173773a6\" y=\"43.944673\"/>\r\n    </g>\r\n    <g clip-path=\"url(#pab5be210bb)\">\r\n     <use style=\"fill:#440154;stroke:#440154;\" x=\"146.775852\" xlink:href=\"#C0_0_70173773a6\" y=\"35.70831\"/>\r\n    </g>\r\n    <g clip-path=\"url(#pab5be210bb)\">\r\n     <use style=\"fill:#440154;stroke:#440154;\" x=\"96.04858\" xlink:href=\"#C0_0_70173773a6\" y=\"126.30831\"/>\r\n    </g>\r\n    <g clip-path=\"url(#pab5be210bb)\">\r\n     <use style=\"fill:#440154;stroke:#440154;\" x=\"104.503125\" xlink:href=\"#C0_0_70173773a6\" y=\"118.071946\"/>\r\n    </g>\r\n    <g clip-path=\"url(#pab5be210bb)\">\r\n     <use style=\"fill:#440154;stroke:#440154;\" x=\"146.775852\" xlink:href=\"#C0_0_70173773a6\" y=\"93.362855\"/>\r\n    </g>\r\n    <g clip-path=\"url(#pab5be210bb)\">\r\n     <use style=\"fill:#440154;stroke:#440154;\" x=\"96.04858\" xlink:href=\"#C0_0_70173773a6\" y=\"126.30831\"/>\r\n    </g>\r\n    <g clip-path=\"url(#pab5be210bb)\">\r\n     <use style=\"fill:#440154;stroke:#440154;\" x=\"53.775852\" xlink:href=\"#C0_0_70173773a6\" y=\"134.544673\"/>\r\n    </g>\r\n    <g clip-path=\"url(#pab5be210bb)\">\r\n     <use style=\"fill:#440154;stroke:#440154;\" x=\"112.95767\" xlink:href=\"#C0_0_70173773a6\" y=\"101.599219\"/>\r\n    </g>\r\n    <g clip-path=\"url(#pab5be210bb)\">\r\n     <use style=\"fill:#440154;stroke:#440154;\" x=\"104.503125\" xlink:href=\"#C0_0_70173773a6\" y=\"93.362855\"/>\r\n    </g>\r\n    <g clip-path=\"url(#pab5be210bb)\">\r\n     <use style=\"fill:#440154;stroke:#440154;\" x=\"62.230398\" xlink:href=\"#C0_0_70173773a6\" y=\"192.199219\"/>\r\n    </g>\r\n    <g clip-path=\"url(#pab5be210bb)\">\r\n     <use style=\"fill:#440154;stroke:#440154;\" x=\"53.775852\" xlink:href=\"#C0_0_70173773a6\" y=\"118.071946\"/>\r\n    </g>\r\n    <g clip-path=\"url(#pab5be210bb)\">\r\n     <use style=\"fill:#440154;stroke:#440154;\" x=\"104.503125\" xlink:href=\"#C0_0_70173773a6\" y=\"93.362855\"/>\r\n    </g>\r\n    <g clip-path=\"url(#pab5be210bb)\">\r\n     <use style=\"fill:#440154;stroke:#440154;\" x=\"112.95767\" xlink:href=\"#C0_0_70173773a6\" y=\"68.653764\"/>\r\n    </g>\r\n    <g clip-path=\"url(#pab5be210bb)\">\r\n     <use style=\"fill:#440154;stroke:#440154;\" x=\"87.594034\" xlink:href=\"#C0_0_70173773a6\" y=\"134.544673\"/>\r\n    </g>\r\n    <g clip-path=\"url(#pab5be210bb)\">\r\n     <use style=\"fill:#440154;stroke:#440154;\" x=\"112.95767\" xlink:href=\"#C0_0_70173773a6\" y=\"68.653764\"/>\r\n    </g>\r\n    <g clip-path=\"url(#pab5be210bb)\">\r\n     <use style=\"fill:#440154;stroke:#440154;\" x=\"70.684943\" xlink:href=\"#C0_0_70173773a6\" y=\"118.071946\"/>\r\n    </g>\r\n    <g clip-path=\"url(#pab5be210bb)\">\r\n     <use style=\"fill:#440154;stroke:#440154;\" x=\"129.866761\" xlink:href=\"#C0_0_70173773a6\" y=\"76.890128\"/>\r\n    </g>\r\n    <g clip-path=\"url(#pab5be210bb)\">\r\n     <use style=\"fill:#440154;stroke:#440154;\" x=\"104.503125\" xlink:href=\"#C0_0_70173773a6\" y=\"109.835582\"/>\r\n    </g>\r\n    <g clip-path=\"url(#pab5be210bb)\">\r\n     <use style=\"fill:#21918c;stroke:#21918c;\" x=\"273.594034\" xlink:href=\"#C0_0_70173773a6\" y=\"118.071946\"/>\r\n    </g>\r\n    <g clip-path=\"url(#pab5be210bb)\">\r\n     <use style=\"fill:#21918c;stroke:#21918c;\" x=\"222.866761\" xlink:href=\"#C0_0_70173773a6\" y=\"118.071946\"/>\r\n    </g>\r\n    <g clip-path=\"url(#pab5be210bb)\">\r\n     <use style=\"fill:#21918c;stroke:#21918c;\" x=\"265.139489\" xlink:href=\"#C0_0_70173773a6\" y=\"126.30831\"/>\r\n    </g>\r\n    <g clip-path=\"url(#pab5be210bb)\">\r\n     <use style=\"fill:#21918c;stroke:#21918c;\" x=\"146.775852\" xlink:href=\"#C0_0_70173773a6\" y=\"192.199219\"/>\r\n    </g>\r\n    <g clip-path=\"url(#pab5be210bb)\">\r\n     <use style=\"fill:#21918c;stroke:#21918c;\" x=\"231.321307\" xlink:href=\"#C0_0_70173773a6\" y=\"151.017401\"/>\r\n    </g>\r\n    <g clip-path=\"url(#pab5be210bb)\">\r\n     <use style=\"fill:#21918c;stroke:#21918c;\" x=\"163.684943\" xlink:href=\"#C0_0_70173773a6\" y=\"151.017401\"/>\r\n    </g>\r\n    <g clip-path=\"url(#pab5be210bb)\">\r\n     <use style=\"fill:#21918c;stroke:#21918c;\" x=\"214.412216\" xlink:href=\"#C0_0_70173773a6\" y=\"109.835582\"/>\r\n    </g>\r\n    <g clip-path=\"url(#pab5be210bb)\">\r\n     <use style=\"fill:#21918c;stroke:#21918c;\" x=\"96.04858\" xlink:href=\"#C0_0_70173773a6\" y=\"183.962855\"/>\r\n    </g>\r\n    <g clip-path=\"url(#pab5be210bb)\">\r\n     <use style=\"fill:#21918c;stroke:#21918c;\" x=\"239.775852\" xlink:href=\"#C0_0_70173773a6\" y=\"142.781037\"/>\r\n    </g>\r\n    <g clip-path=\"url(#pab5be210bb)\">\r\n     <use style=\"fill:#21918c;stroke:#21918c;\" x=\"121.412216\" xlink:href=\"#C0_0_70173773a6\" y=\"159.253764\"/>\r\n    </g>\r\n    <g clip-path=\"url(#pab5be210bb)\">\r\n     <use style=\"fill:#21918c;stroke:#21918c;\" x=\"104.503125\" xlink:href=\"#C0_0_70173773a6\" y=\"216.90831\"/>\r\n    </g>\r\n    <g clip-path=\"url(#pab5be210bb)\">\r\n     <use style=\"fill:#21918c;stroke:#21918c;\" x=\"180.594034\" xlink:href=\"#C0_0_70173773a6\" y=\"134.544673\"/>\r\n    </g>\r\n    <g clip-path=\"url(#pab5be210bb)\">\r\n     <use style=\"fill:#21918c;stroke:#21918c;\" x=\"189.04858\" xlink:href=\"#C0_0_70173773a6\" y=\"200.435582\"/>\r\n    </g>\r\n    <g clip-path=\"url(#pab5be210bb)\">\r\n     <use style=\"fill:#21918c;stroke:#21918c;\" x=\"197.503125\" xlink:href=\"#C0_0_70173773a6\" y=\"142.781037\"/>\r\n    </g>\r\n    <g clip-path=\"url(#pab5be210bb)\">\r\n     <use style=\"fill:#21918c;stroke:#21918c;\" x=\"155.230398\" xlink:href=\"#C0_0_70173773a6\" y=\"142.781037\"/>\r\n    </g>\r\n    <g clip-path=\"url(#pab5be210bb)\">\r\n     <use style=\"fill:#21918c;stroke:#21918c;\" x=\"248.230398\" xlink:href=\"#C0_0_70173773a6\" y=\"126.30831\"/>\r\n    </g>\r\n    <g clip-path=\"url(#pab5be210bb)\">\r\n     <use style=\"fill:#21918c;stroke:#21918c;\" x=\"155.230398\" xlink:href=\"#C0_0_70173773a6\" y=\"134.544673\"/>\r\n    </g>\r\n    <g clip-path=\"url(#pab5be210bb)\">\r\n     <use style=\"fill:#21918c;stroke:#21918c;\" x=\"172.139489\" xlink:href=\"#C0_0_70173773a6\" y=\"159.253764\"/>\r\n    </g>\r\n    <g clip-path=\"url(#pab5be210bb)\">\r\n     <use style=\"fill:#21918c;stroke:#21918c;\" x=\"205.95767\" xlink:href=\"#C0_0_70173773a6\" y=\"200.435582\"/>\r\n    </g>\r\n    <g clip-path=\"url(#pab5be210bb)\">\r\n     <use style=\"fill:#21918c;stroke:#21918c;\" x=\"155.230398\" xlink:href=\"#C0_0_70173773a6\" y=\"175.726491\"/>\r\n    </g>\r\n    <g clip-path=\"url(#pab5be210bb)\">\r\n     <use style=\"fill:#21918c;stroke:#21918c;\" x=\"180.594034\" xlink:href=\"#C0_0_70173773a6\" y=\"118.071946\"/>\r\n    </g>\r\n    <g clip-path=\"url(#pab5be210bb)\">\r\n     <use style=\"fill:#21918c;stroke:#21918c;\" x=\"197.503125\" xlink:href=\"#C0_0_70173773a6\" y=\"151.017401\"/>\r\n    </g>\r\n    <g clip-path=\"url(#pab5be210bb)\">\r\n     <use style=\"fill:#21918c;stroke:#21918c;\" x=\"214.412216\" xlink:href=\"#C0_0_70173773a6\" y=\"175.726491\"/>\r\n    </g>\r\n    <g clip-path=\"url(#pab5be210bb)\">\r\n     <use style=\"fill:#21918c;stroke:#21918c;\" x=\"197.503125\" xlink:href=\"#C0_0_70173773a6\" y=\"151.017401\"/>\r\n    </g>\r\n    <g clip-path=\"url(#pab5be210bb)\">\r\n     <use style=\"fill:#21918c;stroke:#21918c;\" x=\"222.866761\" xlink:href=\"#C0_0_70173773a6\" y=\"142.781037\"/>\r\n    </g>\r\n    <g clip-path=\"url(#pab5be210bb)\">\r\n     <use style=\"fill:#21918c;stroke:#21918c;\" x=\"239.775852\" xlink:href=\"#C0_0_70173773a6\" y=\"134.544673\"/>\r\n    </g>\r\n    <g clip-path=\"url(#pab5be210bb)\">\r\n     <use style=\"fill:#21918c;stroke:#21918c;\" x=\"256.684943\" xlink:href=\"#C0_0_70173773a6\" y=\"151.017401\"/>\r\n    </g>\r\n    <g clip-path=\"url(#pab5be210bb)\">\r\n     <use style=\"fill:#21918c;stroke:#21918c;\" x=\"248.230398\" xlink:href=\"#C0_0_70173773a6\" y=\"134.544673\"/>\r\n    </g>\r\n    <g clip-path=\"url(#pab5be210bb)\">\r\n     <use style=\"fill:#21918c;stroke:#21918c;\" x=\"189.04858\" xlink:href=\"#C0_0_70173773a6\" y=\"142.781037\"/>\r\n    </g>\r\n    <g clip-path=\"url(#pab5be210bb)\">\r\n     <use style=\"fill:#21918c;stroke:#21918c;\" x=\"163.684943\" xlink:href=\"#C0_0_70173773a6\" y=\"167.490128\"/>\r\n    </g>\r\n    <g clip-path=\"url(#pab5be210bb)\">\r\n     <use style=\"fill:#21918c;stroke:#21918c;\" x=\"146.775852\" xlink:href=\"#C0_0_70173773a6\" y=\"183.962855\"/>\r\n    </g>\r\n    <g clip-path=\"url(#pab5be210bb)\">\r\n     <use style=\"fill:#21918c;stroke:#21918c;\" x=\"146.775852\" xlink:href=\"#C0_0_70173773a6\" y=\"183.962855\"/>\r\n    </g>\r\n    <g clip-path=\"url(#pab5be210bb)\">\r\n     <use style=\"fill:#21918c;stroke:#21918c;\" x=\"172.139489\" xlink:href=\"#C0_0_70173773a6\" y=\"159.253764\"/>\r\n    </g>\r\n    <g clip-path=\"url(#pab5be210bb)\">\r\n     <use style=\"fill:#21918c;stroke:#21918c;\" x=\"189.04858\" xlink:href=\"#C0_0_70173773a6\" y=\"159.253764\"/>\r\n    </g>\r\n    <g clip-path=\"url(#pab5be210bb)\">\r\n     <use style=\"fill:#21918c;stroke:#21918c;\" x=\"138.321307\" xlink:href=\"#C0_0_70173773a6\" y=\"134.544673\"/>\r\n    </g>\r\n    <g clip-path=\"url(#pab5be210bb)\">\r\n     <use style=\"fill:#21918c;stroke:#21918c;\" x=\"189.04858\" xlink:href=\"#C0_0_70173773a6\" y=\"101.599219\"/>\r\n    </g>\r\n    <g clip-path=\"url(#pab5be210bb)\">\r\n     <use style=\"fill:#21918c;stroke:#21918c;\" x=\"248.230398\" xlink:href=\"#C0_0_70173773a6\" y=\"126.30831\"/>\r\n    </g>\r\n    <g clip-path=\"url(#pab5be210bb)\">\r\n     <use style=\"fill:#21918c;stroke:#21918c;\" x=\"214.412216\" xlink:href=\"#C0_0_70173773a6\" y=\"192.199219\"/>\r\n    </g>\r\n    <g clip-path=\"url(#pab5be210bb)\">\r\n     <use style=\"fill:#21918c;stroke:#21918c;\" x=\"155.230398\" xlink:href=\"#C0_0_70173773a6\" y=\"134.544673\"/>\r\n    </g>\r\n    <g clip-path=\"url(#pab5be210bb)\">\r\n     <use style=\"fill:#21918c;stroke:#21918c;\" x=\"146.775852\" xlink:href=\"#C0_0_70173773a6\" y=\"175.726491\"/>\r\n    </g>\r\n    <g clip-path=\"url(#pab5be210bb)\">\r\n     <use style=\"fill:#21918c;stroke:#21918c;\" x=\"146.775852\" xlink:href=\"#C0_0_70173773a6\" y=\"167.490128\"/>\r\n    </g>\r\n    <g clip-path=\"url(#pab5be210bb)\">\r\n     <use style=\"fill:#21918c;stroke:#21918c;\" x=\"197.503125\" xlink:href=\"#C0_0_70173773a6\" y=\"134.544673\"/>\r\n    </g>\r\n    <g clip-path=\"url(#pab5be210bb)\">\r\n     <use style=\"fill:#21918c;stroke:#21918c;\" x=\"172.139489\" xlink:href=\"#C0_0_70173773a6\" y=\"167.490128\"/>\r\n    </g>\r\n    <g clip-path=\"url(#pab5be210bb)\">\r\n     <use style=\"fill:#21918c;stroke:#21918c;\" x=\"104.503125\" xlink:href=\"#C0_0_70173773a6\" y=\"192.199219\"/>\r\n    </g>\r\n    <g clip-path=\"url(#pab5be210bb)\">\r\n     <use style=\"fill:#21918c;stroke:#21918c;\" x=\"155.230398\" xlink:href=\"#C0_0_70173773a6\" y=\"159.253764\"/>\r\n    </g>\r\n    <g clip-path=\"url(#pab5be210bb)\">\r\n     <use style=\"fill:#21918c;stroke:#21918c;\" x=\"163.684943\" xlink:href=\"#C0_0_70173773a6\" y=\"134.544673\"/>\r\n    </g>\r\n    <g clip-path=\"url(#pab5be210bb)\">\r\n     <use style=\"fill:#21918c;stroke:#21918c;\" x=\"163.684943\" xlink:href=\"#C0_0_70173773a6\" y=\"142.781037\"/>\r\n    </g>\r\n    <g clip-path=\"url(#pab5be210bb)\">\r\n     <use style=\"fill:#21918c;stroke:#21918c;\" x=\"205.95767\" xlink:href=\"#C0_0_70173773a6\" y=\"142.781037\"/>\r\n    </g>\r\n    <g clip-path=\"url(#pab5be210bb)\">\r\n     <use style=\"fill:#21918c;stroke:#21918c;\" x=\"112.95767\" xlink:href=\"#C0_0_70173773a6\" y=\"175.726491\"/>\r\n    </g>\r\n    <g clip-path=\"url(#pab5be210bb)\">\r\n     <use style=\"fill:#21918c;stroke:#21918c;\" x=\"163.684943\" xlink:href=\"#C0_0_70173773a6\" y=\"151.017401\"/>\r\n    </g>\r\n    <g clip-path=\"url(#pab5be210bb)\">\r\n     <use style=\"fill:#fde725;stroke:#fde725;\" x=\"214.412216\" xlink:href=\"#C0_0_70173773a6\" y=\"109.835582\"/>\r\n    </g>\r\n    <g clip-path=\"url(#pab5be210bb)\">\r\n     <use style=\"fill:#fde725;stroke:#fde725;\" x=\"172.139489\" xlink:href=\"#C0_0_70173773a6\" y=\"159.253764\"/>\r\n    </g>\r\n    <g clip-path=\"url(#pab5be210bb)\">\r\n     <use style=\"fill:#fde725;stroke:#fde725;\" x=\"282.04858\" xlink:href=\"#C0_0_70173773a6\" y=\"134.544673\"/>\r\n    </g>\r\n    <g clip-path=\"url(#pab5be210bb)\">\r\n     <use style=\"fill:#fde725;stroke:#fde725;\" x=\"214.412216\" xlink:href=\"#C0_0_70173773a6\" y=\"142.781037\"/>\r\n    </g>\r\n    <g clip-path=\"url(#pab5be210bb)\">\r\n     <use style=\"fill:#fde725;stroke:#fde725;\" x=\"231.321307\" xlink:href=\"#C0_0_70173773a6\" y=\"134.544673\"/>\r\n    </g>\r\n    <g clip-path=\"url(#pab5be210bb)\">\r\n     <use style=\"fill:#fde725;stroke:#fde725;\" x=\"324.321307\" xlink:href=\"#C0_0_70173773a6\" y=\"134.544673\"/>\r\n    </g>\r\n    <g clip-path=\"url(#pab5be210bb)\">\r\n     <use style=\"fill:#fde725;stroke:#fde725;\" x=\"96.04858\" xlink:href=\"#C0_0_70173773a6\" y=\"175.726491\"/>\r\n    </g>\r\n    <g clip-path=\"url(#pab5be210bb)\">\r\n     <use style=\"fill:#fde725;stroke:#fde725;\" x=\"298.95767\" xlink:href=\"#C0_0_70173773a6\" y=\"142.781037\"/>\r\n    </g>\r\n    <g clip-path=\"url(#pab5be210bb)\">\r\n     <use style=\"fill:#fde725;stroke:#fde725;\" x=\"248.230398\" xlink:href=\"#C0_0_70173773a6\" y=\"175.726491\"/>\r\n    </g>\r\n    <g clip-path=\"url(#pab5be210bb)\">\r\n     <use style=\"fill:#fde725;stroke:#fde725;\" x=\"290.503125\" xlink:href=\"#C0_0_70173773a6\" y=\"85.126491\"/>\r\n    </g>\r\n    <g clip-path=\"url(#pab5be210bb)\">\r\n     <use style=\"fill:#fde725;stroke:#fde725;\" x=\"231.321307\" xlink:href=\"#C0_0_70173773a6\" y=\"118.071946\"/>\r\n    </g>\r\n    <g clip-path=\"url(#pab5be210bb)\">\r\n     <use style=\"fill:#fde725;stroke:#fde725;\" x=\"222.866761\" xlink:href=\"#C0_0_70173773a6\" y=\"159.253764\"/>\r\n    </g>\r\n    <g clip-path=\"url(#pab5be210bb)\">\r\n     <use style=\"fill:#fde725;stroke:#fde725;\" x=\"256.684943\" xlink:href=\"#C0_0_70173773a6\" y=\"134.544673\"/>\r\n    </g>\r\n    <g clip-path=\"url(#pab5be210bb)\">\r\n     <use style=\"fill:#fde725;stroke:#fde725;\" x=\"163.684943\" xlink:href=\"#C0_0_70173773a6\" y=\"175.726491\"/>\r\n    </g>\r\n    <g clip-path=\"url(#pab5be210bb)\">\r\n     <use style=\"fill:#fde725;stroke:#fde725;\" x=\"172.139489\" xlink:href=\"#C0_0_70173773a6\" y=\"151.017401\"/>\r\n    </g>\r\n    <g clip-path=\"url(#pab5be210bb)\">\r\n     <use style=\"fill:#fde725;stroke:#fde725;\" x=\"222.866761\" xlink:href=\"#C0_0_70173773a6\" y=\"118.071946\"/>\r\n    </g>\r\n    <g clip-path=\"url(#pab5be210bb)\">\r\n     <use style=\"fill:#fde725;stroke:#fde725;\" x=\"231.321307\" xlink:href=\"#C0_0_70173773a6\" y=\"134.544673\"/>\r\n    </g>\r\n    <g clip-path=\"url(#pab5be210bb)\">\r\n     <use style=\"fill:#fde725;stroke:#fde725;\" x=\"332.775852\" xlink:href=\"#C0_0_70173773a6\" y=\"68.653764\"/>\r\n    </g>\r\n    <g clip-path=\"url(#pab5be210bb)\">\r\n     <use style=\"fill:#fde725;stroke:#fde725;\" x=\"332.775852\" xlink:href=\"#C0_0_70173773a6\" y=\"167.490128\"/>\r\n    </g>\r\n    <g clip-path=\"url(#pab5be210bb)\">\r\n     <use style=\"fill:#fde725;stroke:#fde725;\" x=\"189.04858\" xlink:href=\"#C0_0_70173773a6\" y=\"200.435582\"/>\r\n    </g>\r\n    <g clip-path=\"url(#pab5be210bb)\">\r\n     <use style=\"fill:#fde725;stroke:#fde725;\" x=\"265.139489\" xlink:href=\"#C0_0_70173773a6\" y=\"118.071946\"/>\r\n    </g>\r\n    <g clip-path=\"url(#pab5be210bb)\">\r\n     <use style=\"fill:#fde725;stroke:#fde725;\" x=\"155.230398\" xlink:href=\"#C0_0_70173773a6\" y=\"151.017401\"/>\r\n    </g>\r\n    <g clip-path=\"url(#pab5be210bb)\">\r\n     <use style=\"fill:#fde725;stroke:#fde725;\" x=\"332.775852\" xlink:href=\"#C0_0_70173773a6\" y=\"151.017401\"/>\r\n    </g>\r\n    <g clip-path=\"url(#pab5be210bb)\">\r\n     <use style=\"fill:#fde725;stroke:#fde725;\" x=\"214.412216\" xlink:href=\"#C0_0_70173773a6\" y=\"159.253764\"/>\r\n    </g>\r\n    <g clip-path=\"url(#pab5be210bb)\">\r\n     <use style=\"fill:#fde725;stroke:#fde725;\" x=\"248.230398\" xlink:href=\"#C0_0_70173773a6\" y=\"109.835582\"/>\r\n    </g>\r\n    <g clip-path=\"url(#pab5be210bb)\">\r\n     <use style=\"fill:#fde725;stroke:#fde725;\" x=\"290.503125\" xlink:href=\"#C0_0_70173773a6\" y=\"118.071946\"/>\r\n    </g>\r\n    <g clip-path=\"url(#pab5be210bb)\">\r\n     <use style=\"fill:#fde725;stroke:#fde725;\" x=\"205.95767\" xlink:href=\"#C0_0_70173773a6\" y=\"151.017401\"/>\r\n    </g>\r\n    <g clip-path=\"url(#pab5be210bb)\">\r\n     <use style=\"fill:#fde725;stroke:#fde725;\" x=\"197.503125\" xlink:href=\"#C0_0_70173773a6\" y=\"134.544673\"/>\r\n    </g>\r\n    <g clip-path=\"url(#pab5be210bb)\">\r\n     <use style=\"fill:#fde725;stroke:#fde725;\" x=\"222.866761\" xlink:href=\"#C0_0_70173773a6\" y=\"151.017401\"/>\r\n    </g>\r\n    <g clip-path=\"url(#pab5be210bb)\">\r\n     <use style=\"fill:#fde725;stroke:#fde725;\" x=\"290.503125\" xlink:href=\"#C0_0_70173773a6\" y=\"134.544673\"/>\r\n    </g>\r\n    <g clip-path=\"url(#pab5be210bb)\">\r\n     <use style=\"fill:#fde725;stroke:#fde725;\" x=\"307.412216\" xlink:href=\"#C0_0_70173773a6\" y=\"151.017401\"/>\r\n    </g>\r\n    <g clip-path=\"url(#pab5be210bb)\">\r\n     <use style=\"fill:#fde725;stroke:#fde725;\" x=\"349.684943\" xlink:href=\"#C0_0_70173773a6\" y=\"68.653764\"/>\r\n    </g>\r\n    <g clip-path=\"url(#pab5be210bb)\">\r\n     <use style=\"fill:#fde725;stroke:#fde725;\" x=\"222.866761\" xlink:href=\"#C0_0_70173773a6\" y=\"151.017401\"/>\r\n    </g>\r\n    <g clip-path=\"url(#pab5be210bb)\">\r\n     <use style=\"fill:#fde725;stroke:#fde725;\" x=\"214.412216\" xlink:href=\"#C0_0_70173773a6\" y=\"151.017401\"/>\r\n    </g>\r\n    <g clip-path=\"url(#pab5be210bb)\">\r\n     <use style=\"fill:#fde725;stroke:#fde725;\" x=\"197.503125\" xlink:href=\"#C0_0_70173773a6\" y=\"167.490128\"/>\r\n    </g>\r\n    <g clip-path=\"url(#pab5be210bb)\">\r\n     <use style=\"fill:#fde725;stroke:#fde725;\" x=\"332.775852\" xlink:href=\"#C0_0_70173773a6\" y=\"134.544673\"/>\r\n    </g>\r\n    <g clip-path=\"url(#pab5be210bb)\">\r\n     <use style=\"fill:#fde725;stroke:#fde725;\" x=\"214.412216\" xlink:href=\"#C0_0_70173773a6\" y=\"101.599219\"/>\r\n    </g>\r\n    <g clip-path=\"url(#pab5be210bb)\">\r\n     <use style=\"fill:#fde725;stroke:#fde725;\" x=\"222.866761\" xlink:href=\"#C0_0_70173773a6\" y=\"126.30831\"/>\r\n    </g>\r\n    <g clip-path=\"url(#pab5be210bb)\">\r\n     <use style=\"fill:#fde725;stroke:#fde725;\" x=\"189.04858\" xlink:href=\"#C0_0_70173773a6\" y=\"134.544673\"/>\r\n    </g>\r\n    <g clip-path=\"url(#pab5be210bb)\">\r\n     <use style=\"fill:#fde725;stroke:#fde725;\" x=\"265.139489\" xlink:href=\"#C0_0_70173773a6\" y=\"126.30831\"/>\r\n    </g>\r\n    <g clip-path=\"url(#pab5be210bb)\">\r\n     <use style=\"fill:#fde725;stroke:#fde725;\" x=\"248.230398\" xlink:href=\"#C0_0_70173773a6\" y=\"126.30831\"/>\r\n    </g>\r\n    <g clip-path=\"url(#pab5be210bb)\">\r\n     <use style=\"fill:#fde725;stroke:#fde725;\" x=\"265.139489\" xlink:href=\"#C0_0_70173773a6\" y=\"126.30831\"/>\r\n    </g>\r\n    <g clip-path=\"url(#pab5be210bb)\">\r\n     <use style=\"fill:#fde725;stroke:#fde725;\" x=\"172.139489\" xlink:href=\"#C0_0_70173773a6\" y=\"159.253764\"/>\r\n    </g>\r\n    <g clip-path=\"url(#pab5be210bb)\">\r\n     <use style=\"fill:#fde725;stroke:#fde725;\" x=\"256.684943\" xlink:href=\"#C0_0_70173773a6\" y=\"118.071946\"/>\r\n    </g>\r\n    <g clip-path=\"url(#pab5be210bb)\">\r\n     <use style=\"fill:#fde725;stroke:#fde725;\" x=\"248.230398\" xlink:href=\"#C0_0_70173773a6\" y=\"109.835582\"/>\r\n    </g>\r\n    <g clip-path=\"url(#pab5be210bb)\">\r\n     <use style=\"fill:#fde725;stroke:#fde725;\" x=\"248.230398\" xlink:href=\"#C0_0_70173773a6\" y=\"134.544673\"/>\r\n    </g>\r\n    <g clip-path=\"url(#pab5be210bb)\">\r\n     <use style=\"fill:#fde725;stroke:#fde725;\" x=\"214.412216\" xlink:href=\"#C0_0_70173773a6\" y=\"175.726491\"/>\r\n    </g>\r\n    <g clip-path=\"url(#pab5be210bb)\">\r\n     <use style=\"fill:#fde725;stroke:#fde725;\" x=\"231.321307\" xlink:href=\"#C0_0_70173773a6\" y=\"134.544673\"/>\r\n    </g>\r\n    <g clip-path=\"url(#pab5be210bb)\">\r\n     <use style=\"fill:#fde725;stroke:#fde725;\" x=\"205.95767\" xlink:href=\"#C0_0_70173773a6\" y=\"101.599219\"/>\r\n    </g>\r\n    <g clip-path=\"url(#pab5be210bb)\">\r\n     <use style=\"fill:#fde725;stroke:#fde725;\" x=\"180.594034\" xlink:href=\"#C0_0_70173773a6\" y=\"134.544673\"/>\r\n    </g>\r\n   </g>\r\n   <g id=\"matplotlib.axis_1\">\r\n    <g id=\"xtick_1\">\r\n     <g id=\"line2d_1\">\r\n      <defs>\r\n       <path d=\"M 0 0 \r\nL 0 3.5 \r\n\" id=\"mfa7904cdbc\" style=\"stroke:#000000;stroke-width:0.8;\"/>\r\n      </defs>\r\n      <g>\r\n       <use style=\"stroke:#000000;stroke-width:0.8;\" x=\"62.230398\" xlink:href=\"#mfa7904cdbc\" y=\"226.791946\"/>\r\n      </g>\r\n     </g>\r\n     <g id=\"text_1\">\r\n      <!-- 4.5 -->\r\n      <g transform=\"translate(54.278835 241.390384)scale(0.1 -0.1)\">\r\n       <defs>\r\n        <path d=\"M 2419 4116 \r\nL 825 1625 \r\nL 2419 1625 \r\nL 2419 4116 \r\nz\r\nM 2253 4666 \r\nL 3047 4666 \r\nL 3047 1625 \r\nL 3713 1625 \r\nL 3713 1100 \r\nL 3047 1100 \r\nL 3047 0 \r\nL 2419 0 \r\nL 2419 1100 \r\nL 313 1100 \r\nL 313 1709 \r\nL 2253 4666 \r\nz\r\n\" id=\"DejaVuSans-34\" transform=\"scale(0.015625)\"/>\r\n        <path d=\"M 684 794 \r\nL 1344 794 \r\nL 1344 0 \r\nL 684 0 \r\nL 684 794 \r\nz\r\n\" id=\"DejaVuSans-2e\" transform=\"scale(0.015625)\"/>\r\n        <path d=\"M 691 4666 \r\nL 3169 4666 \r\nL 3169 4134 \r\nL 1269 4134 \r\nL 1269 2991 \r\nQ 1406 3038 1543 3061 \r\nQ 1681 3084 1819 3084 \r\nQ 2600 3084 3056 2656 \r\nQ 3513 2228 3513 1497 \r\nQ 3513 744 3044 326 \r\nQ 2575 -91 1722 -91 \r\nQ 1428 -91 1123 -41 \r\nQ 819 9 494 109 \r\nL 494 744 \r\nQ 775 591 1075 516 \r\nQ 1375 441 1709 441 \r\nQ 2250 441 2565 725 \r\nQ 2881 1009 2881 1497 \r\nQ 2881 1984 2565 2268 \r\nQ 2250 2553 1709 2553 \r\nQ 1456 2553 1204 2497 \r\nQ 953 2441 691 2322 \r\nL 691 4666 \r\nz\r\n\" id=\"DejaVuSans-35\" transform=\"scale(0.015625)\"/>\r\n       </defs>\r\n       <use xlink:href=\"#DejaVuSans-34\"/>\r\n       <use x=\"63.623047\" xlink:href=\"#DejaVuSans-2e\"/>\r\n       <use x=\"95.410156\" xlink:href=\"#DejaVuSans-35\"/>\r\n      </g>\r\n     </g>\r\n    </g>\r\n    <g id=\"xtick_2\">\r\n     <g id=\"line2d_2\">\r\n      <g>\r\n       <use style=\"stroke:#000000;stroke-width:0.8;\" x=\"104.503125\" xlink:href=\"#mfa7904cdbc\" y=\"226.791946\"/>\r\n      </g>\r\n     </g>\r\n     <g id=\"text_2\">\r\n      <!-- 5.0 -->\r\n      <g transform=\"translate(96.551563 241.390384)scale(0.1 -0.1)\">\r\n       <defs>\r\n        <path d=\"M 2034 4250 \r\nQ 1547 4250 1301 3770 \r\nQ 1056 3291 1056 2328 \r\nQ 1056 1369 1301 889 \r\nQ 1547 409 2034 409 \r\nQ 2525 409 2770 889 \r\nQ 3016 1369 3016 2328 \r\nQ 3016 3291 2770 3770 \r\nQ 2525 4250 2034 4250 \r\nz\r\nM 2034 4750 \r\nQ 2819 4750 3233 4129 \r\nQ 3647 3509 3647 2328 \r\nQ 3647 1150 3233 529 \r\nQ 2819 -91 2034 -91 \r\nQ 1250 -91 836 529 \r\nQ 422 1150 422 2328 \r\nQ 422 3509 836 4129 \r\nQ 1250 4750 2034 4750 \r\nz\r\n\" id=\"DejaVuSans-30\" transform=\"scale(0.015625)\"/>\r\n       </defs>\r\n       <use xlink:href=\"#DejaVuSans-35\"/>\r\n       <use x=\"63.623047\" xlink:href=\"#DejaVuSans-2e\"/>\r\n       <use x=\"95.410156\" xlink:href=\"#DejaVuSans-30\"/>\r\n      </g>\r\n     </g>\r\n    </g>\r\n    <g id=\"xtick_3\">\r\n     <g id=\"line2d_3\">\r\n      <g>\r\n       <use style=\"stroke:#000000;stroke-width:0.8;\" x=\"146.775852\" xlink:href=\"#mfa7904cdbc\" y=\"226.791946\"/>\r\n      </g>\r\n     </g>\r\n     <g id=\"text_3\">\r\n      <!-- 5.5 -->\r\n      <g transform=\"translate(138.82429 241.390384)scale(0.1 -0.1)\">\r\n       <use xlink:href=\"#DejaVuSans-35\"/>\r\n       <use x=\"63.623047\" xlink:href=\"#DejaVuSans-2e\"/>\r\n       <use x=\"95.410156\" xlink:href=\"#DejaVuSans-35\"/>\r\n      </g>\r\n     </g>\r\n    </g>\r\n    <g id=\"xtick_4\">\r\n     <g id=\"line2d_4\">\r\n      <g>\r\n       <use style=\"stroke:#000000;stroke-width:0.8;\" x=\"189.04858\" xlink:href=\"#mfa7904cdbc\" y=\"226.791946\"/>\r\n      </g>\r\n     </g>\r\n     <g id=\"text_4\">\r\n      <!-- 6.0 -->\r\n      <g transform=\"translate(181.097017 241.390384)scale(0.1 -0.1)\">\r\n       <defs>\r\n        <path d=\"M 2113 2584 \r\nQ 1688 2584 1439 2293 \r\nQ 1191 2003 1191 1497 \r\nQ 1191 994 1439 701 \r\nQ 1688 409 2113 409 \r\nQ 2538 409 2786 701 \r\nQ 3034 994 3034 1497 \r\nQ 3034 2003 2786 2293 \r\nQ 2538 2584 2113 2584 \r\nz\r\nM 3366 4563 \r\nL 3366 3988 \r\nQ 3128 4100 2886 4159 \r\nQ 2644 4219 2406 4219 \r\nQ 1781 4219 1451 3797 \r\nQ 1122 3375 1075 2522 \r\nQ 1259 2794 1537 2939 \r\nQ 1816 3084 2150 3084 \r\nQ 2853 3084 3261 2657 \r\nQ 3669 2231 3669 1497 \r\nQ 3669 778 3244 343 \r\nQ 2819 -91 2113 -91 \r\nQ 1303 -91 875 529 \r\nQ 447 1150 447 2328 \r\nQ 447 3434 972 4092 \r\nQ 1497 4750 2381 4750 \r\nQ 2619 4750 2861 4703 \r\nQ 3103 4656 3366 4563 \r\nz\r\n\" id=\"DejaVuSans-36\" transform=\"scale(0.015625)\"/>\r\n       </defs>\r\n       <use xlink:href=\"#DejaVuSans-36\"/>\r\n       <use x=\"63.623047\" xlink:href=\"#DejaVuSans-2e\"/>\r\n       <use x=\"95.410156\" xlink:href=\"#DejaVuSans-30\"/>\r\n      </g>\r\n     </g>\r\n    </g>\r\n    <g id=\"xtick_5\">\r\n     <g id=\"line2d_5\">\r\n      <g>\r\n       <use style=\"stroke:#000000;stroke-width:0.8;\" x=\"231.321307\" xlink:href=\"#mfa7904cdbc\" y=\"226.791946\"/>\r\n      </g>\r\n     </g>\r\n     <g id=\"text_5\">\r\n      <!-- 6.5 -->\r\n      <g transform=\"translate(223.369744 241.390384)scale(0.1 -0.1)\">\r\n       <use xlink:href=\"#DejaVuSans-36\"/>\r\n       <use x=\"63.623047\" xlink:href=\"#DejaVuSans-2e\"/>\r\n       <use x=\"95.410156\" xlink:href=\"#DejaVuSans-35\"/>\r\n      </g>\r\n     </g>\r\n    </g>\r\n    <g id=\"xtick_6\">\r\n     <g id=\"line2d_6\">\r\n      <g>\r\n       <use style=\"stroke:#000000;stroke-width:0.8;\" x=\"273.594034\" xlink:href=\"#mfa7904cdbc\" y=\"226.791946\"/>\r\n      </g>\r\n     </g>\r\n     <g id=\"text_6\">\r\n      <!-- 7.0 -->\r\n      <g transform=\"translate(265.642472 241.390384)scale(0.1 -0.1)\">\r\n       <defs>\r\n        <path d=\"M 525 4666 \r\nL 3525 4666 \r\nL 3525 4397 \r\nL 1831 0 \r\nL 1172 0 \r\nL 2766 4134 \r\nL 525 4134 \r\nL 525 4666 \r\nz\r\n\" id=\"DejaVuSans-37\" transform=\"scale(0.015625)\"/>\r\n       </defs>\r\n       <use xlink:href=\"#DejaVuSans-37\"/>\r\n       <use x=\"63.623047\" xlink:href=\"#DejaVuSans-2e\"/>\r\n       <use x=\"95.410156\" xlink:href=\"#DejaVuSans-30\"/>\r\n      </g>\r\n     </g>\r\n    </g>\r\n    <g id=\"xtick_7\">\r\n     <g id=\"line2d_7\">\r\n      <g>\r\n       <use style=\"stroke:#000000;stroke-width:0.8;\" x=\"315.866761\" xlink:href=\"#mfa7904cdbc\" y=\"226.791946\"/>\r\n      </g>\r\n     </g>\r\n     <g id=\"text_7\">\r\n      <!-- 7.5 -->\r\n      <g transform=\"translate(307.915199 241.390384)scale(0.1 -0.1)\">\r\n       <use xlink:href=\"#DejaVuSans-37\"/>\r\n       <use x=\"63.623047\" xlink:href=\"#DejaVuSans-2e\"/>\r\n       <use x=\"95.410156\" xlink:href=\"#DejaVuSans-35\"/>\r\n      </g>\r\n     </g>\r\n    </g>\r\n    <g id=\"xtick_8\">\r\n     <g id=\"line2d_8\">\r\n      <g>\r\n       <use style=\"stroke:#000000;stroke-width:0.8;\" x=\"358.139489\" xlink:href=\"#mfa7904cdbc\" y=\"226.791946\"/>\r\n      </g>\r\n     </g>\r\n     <g id=\"text_8\">\r\n      <!-- 8.0 -->\r\n      <g transform=\"translate(350.187926 241.390384)scale(0.1 -0.1)\">\r\n       <defs>\r\n        <path d=\"M 2034 2216 \r\nQ 1584 2216 1326 1975 \r\nQ 1069 1734 1069 1313 \r\nQ 1069 891 1326 650 \r\nQ 1584 409 2034 409 \r\nQ 2484 409 2743 651 \r\nQ 3003 894 3003 1313 \r\nQ 3003 1734 2745 1975 \r\nQ 2488 2216 2034 2216 \r\nz\r\nM 1403 2484 \r\nQ 997 2584 770 2862 \r\nQ 544 3141 544 3541 \r\nQ 544 4100 942 4425 \r\nQ 1341 4750 2034 4750 \r\nQ 2731 4750 3128 4425 \r\nQ 3525 4100 3525 3541 \r\nQ 3525 3141 3298 2862 \r\nQ 3072 2584 2669 2484 \r\nQ 3125 2378 3379 2068 \r\nQ 3634 1759 3634 1313 \r\nQ 3634 634 3220 271 \r\nQ 2806 -91 2034 -91 \r\nQ 1263 -91 848 271 \r\nQ 434 634 434 1313 \r\nQ 434 1759 690 2068 \r\nQ 947 2378 1403 2484 \r\nz\r\nM 1172 3481 \r\nQ 1172 3119 1398 2916 \r\nQ 1625 2713 2034 2713 \r\nQ 2441 2713 2670 2916 \r\nQ 2900 3119 2900 3481 \r\nQ 2900 3844 2670 4047 \r\nQ 2441 4250 2034 4250 \r\nQ 1625 4250 1398 4047 \r\nQ 1172 3844 1172 3481 \r\nz\r\n\" id=\"DejaVuSans-38\" transform=\"scale(0.015625)\"/>\r\n       </defs>\r\n       <use xlink:href=\"#DejaVuSans-38\"/>\r\n       <use x=\"63.623047\" xlink:href=\"#DejaVuSans-2e\"/>\r\n       <use x=\"95.410156\" xlink:href=\"#DejaVuSans-30\"/>\r\n      </g>\r\n     </g>\r\n    </g>\r\n   </g>\r\n   <g id=\"matplotlib.axis_2\">\r\n    <g id=\"ytick_1\">\r\n     <g id=\"line2d_9\">\r\n      <defs>\r\n       <path d=\"M 0 0 \r\nL -3.5 0 \r\n\" id=\"mc8cf933d01\" style=\"stroke:#000000;stroke-width:0.8;\"/>\r\n      </defs>\r\n      <g>\r\n       <use style=\"stroke:#000000;stroke-width:0.8;\" x=\"30.103125\" xlink:href=\"#mc8cf933d01\" y=\"216.90831\"/>\r\n      </g>\r\n     </g>\r\n     <g id=\"text_9\">\r\n      <!-- 2.0 -->\r\n      <g transform=\"translate(7.2 220.707528)scale(0.1 -0.1)\">\r\n       <defs>\r\n        <path d=\"M 1228 531 \r\nL 3431 531 \r\nL 3431 0 \r\nL 469 0 \r\nL 469 531 \r\nQ 828 903 1448 1529 \r\nQ 2069 2156 2228 2338 \r\nQ 2531 2678 2651 2914 \r\nQ 2772 3150 2772 3378 \r\nQ 2772 3750 2511 3984 \r\nQ 2250 4219 1831 4219 \r\nQ 1534 4219 1204 4116 \r\nQ 875 4013 500 3803 \r\nL 500 4441 \r\nQ 881 4594 1212 4672 \r\nQ 1544 4750 1819 4750 \r\nQ 2544 4750 2975 4387 \r\nQ 3406 4025 3406 3419 \r\nQ 3406 3131 3298 2873 \r\nQ 3191 2616 2906 2266 \r\nQ 2828 2175 2409 1742 \r\nQ 1991 1309 1228 531 \r\nz\r\n\" id=\"DejaVuSans-32\" transform=\"scale(0.015625)\"/>\r\n       </defs>\r\n       <use xlink:href=\"#DejaVuSans-32\"/>\r\n       <use x=\"63.623047\" xlink:href=\"#DejaVuSans-2e\"/>\r\n       <use x=\"95.410156\" xlink:href=\"#DejaVuSans-30\"/>\r\n      </g>\r\n     </g>\r\n    </g>\r\n    <g id=\"ytick_2\">\r\n     <g id=\"line2d_10\">\r\n      <g>\r\n       <use style=\"stroke:#000000;stroke-width:0.8;\" x=\"30.103125\" xlink:href=\"#mc8cf933d01\" y=\"175.726491\"/>\r\n      </g>\r\n     </g>\r\n     <g id=\"text_10\">\r\n      <!-- 2.5 -->\r\n      <g transform=\"translate(7.2 179.52571)scale(0.1 -0.1)\">\r\n       <use xlink:href=\"#DejaVuSans-32\"/>\r\n       <use x=\"63.623047\" xlink:href=\"#DejaVuSans-2e\"/>\r\n       <use x=\"95.410156\" xlink:href=\"#DejaVuSans-35\"/>\r\n      </g>\r\n     </g>\r\n    </g>\r\n    <g id=\"ytick_3\">\r\n     <g id=\"line2d_11\">\r\n      <g>\r\n       <use style=\"stroke:#000000;stroke-width:0.8;\" x=\"30.103125\" xlink:href=\"#mc8cf933d01\" y=\"134.544673\"/>\r\n      </g>\r\n     </g>\r\n     <g id=\"text_11\">\r\n      <!-- 3.0 -->\r\n      <g transform=\"translate(7.2 138.343892)scale(0.1 -0.1)\">\r\n       <defs>\r\n        <path d=\"M 2597 2516 \r\nQ 3050 2419 3304 2112 \r\nQ 3559 1806 3559 1356 \r\nQ 3559 666 3084 287 \r\nQ 2609 -91 1734 -91 \r\nQ 1441 -91 1130 -33 \r\nQ 819 25 488 141 \r\nL 488 750 \r\nQ 750 597 1062 519 \r\nQ 1375 441 1716 441 \r\nQ 2309 441 2620 675 \r\nQ 2931 909 2931 1356 \r\nQ 2931 1769 2642 2001 \r\nQ 2353 2234 1838 2234 \r\nL 1294 2234 \r\nL 1294 2753 \r\nL 1863 2753 \r\nQ 2328 2753 2575 2939 \r\nQ 2822 3125 2822 3475 \r\nQ 2822 3834 2567 4026 \r\nQ 2313 4219 1838 4219 \r\nQ 1578 4219 1281 4162 \r\nQ 984 4106 628 3988 \r\nL 628 4550 \r\nQ 988 4650 1302 4700 \r\nQ 1616 4750 1894 4750 \r\nQ 2613 4750 3031 4423 \r\nQ 3450 4097 3450 3541 \r\nQ 3450 3153 3228 2886 \r\nQ 3006 2619 2597 2516 \r\nz\r\n\" id=\"DejaVuSans-33\" transform=\"scale(0.015625)\"/>\r\n       </defs>\r\n       <use xlink:href=\"#DejaVuSans-33\"/>\r\n       <use x=\"63.623047\" xlink:href=\"#DejaVuSans-2e\"/>\r\n       <use x=\"95.410156\" xlink:href=\"#DejaVuSans-30\"/>\r\n      </g>\r\n     </g>\r\n    </g>\r\n    <g id=\"ytick_4\">\r\n     <g id=\"line2d_12\">\r\n      <g>\r\n       <use style=\"stroke:#000000;stroke-width:0.8;\" x=\"30.103125\" xlink:href=\"#mc8cf933d01\" y=\"93.362855\"/>\r\n      </g>\r\n     </g>\r\n     <g id=\"text_12\">\r\n      <!-- 3.5 -->\r\n      <g transform=\"translate(7.2 97.162074)scale(0.1 -0.1)\">\r\n       <use xlink:href=\"#DejaVuSans-33\"/>\r\n       <use x=\"63.623047\" xlink:href=\"#DejaVuSans-2e\"/>\r\n       <use x=\"95.410156\" xlink:href=\"#DejaVuSans-35\"/>\r\n      </g>\r\n     </g>\r\n    </g>\r\n    <g id=\"ytick_5\">\r\n     <g id=\"line2d_13\">\r\n      <g>\r\n       <use style=\"stroke:#000000;stroke-width:0.8;\" x=\"30.103125\" xlink:href=\"#mc8cf933d01\" y=\"52.181037\"/>\r\n      </g>\r\n     </g>\r\n     <g id=\"text_13\">\r\n      <!-- 4.0 -->\r\n      <g transform=\"translate(7.2 55.980256)scale(0.1 -0.1)\">\r\n       <use xlink:href=\"#DejaVuSans-34\"/>\r\n       <use x=\"63.623047\" xlink:href=\"#DejaVuSans-2e\"/>\r\n       <use x=\"95.410156\" xlink:href=\"#DejaVuSans-30\"/>\r\n      </g>\r\n     </g>\r\n    </g>\r\n    <g id=\"ytick_6\">\r\n     <g id=\"line2d_14\">\r\n      <g>\r\n       <use style=\"stroke:#000000;stroke-width:0.8;\" x=\"30.103125\" xlink:href=\"#mc8cf933d01\" y=\"10.999219\"/>\r\n      </g>\r\n     </g>\r\n     <g id=\"text_14\">\r\n      <!-- 4.5 -->\r\n      <g transform=\"translate(7.2 14.798437)scale(0.1 -0.1)\">\r\n       <use xlink:href=\"#DejaVuSans-34\"/>\r\n       <use x=\"63.623047\" xlink:href=\"#DejaVuSans-2e\"/>\r\n       <use x=\"95.410156\" xlink:href=\"#DejaVuSans-35\"/>\r\n      </g>\r\n     </g>\r\n    </g>\r\n   </g>\r\n   <g id=\"patch_3\">\r\n    <path d=\"M 30.103125 226.791946 \r\nL 30.103125 9.351946 \r\n\" style=\"fill:none;stroke:#000000;stroke-linecap:square;stroke-linejoin:miter;stroke-width:0.8;\"/>\r\n   </g>\r\n   <g id=\"patch_4\">\r\n    <path d=\"M 364.903125 226.791946 \r\nL 364.903125 9.351946 \r\n\" style=\"fill:none;stroke:#000000;stroke-linecap:square;stroke-linejoin:miter;stroke-width:0.8;\"/>\r\n   </g>\r\n   <g id=\"patch_5\">\r\n    <path d=\"M 30.103125 226.791946 \r\nL 364.903125 226.791946 \r\n\" style=\"fill:none;stroke:#000000;stroke-linecap:square;stroke-linejoin:miter;stroke-width:0.8;\"/>\r\n   </g>\r\n   <g id=\"patch_6\">\r\n    <path d=\"M 30.103125 9.351946 \r\nL 364.903125 9.351946 \r\n\" style=\"fill:none;stroke:#000000;stroke-linecap:square;stroke-linejoin:miter;stroke-width:0.8;\"/>\r\n   </g>\r\n  </g>\r\n </g>\r\n <defs>\r\n  <clipPath id=\"pab5be210bb\">\r\n   <rect height=\"217.44\" width=\"334.8\" x=\"30.103125\" y=\"9.351946\"/>\r\n  </clipPath>\r\n </defs>\r\n</svg>\r\n",
      "image/png": "[encoded data removed]"
     },
     "metadata": {
      "needs_background": "light"
     }
    }
   ],
   "source": [
    "x= df['sepal_length']\n",
    "y= df['sepal_width']\n",
    "color = df['species_id']\n",
    "plt.scatter(x, y, c=color)\n",
    "plt.show()"
   ]
  },
  {
   "source": [
    "Plotly Express Plot"
   ],
   "cell_type": "markdown",
   "metadata": {}
  },
  {
   "cell_type": "code",
   "execution_count": 4,
   "metadata": {},
   "outputs": [
    {
     "output_type": "display_data",
     "data": {
      "application/vnd.plotly.v1+json": {
       "config": {
        "plotlyServerURL": "https://plot.ly"
       },
       "data": [
        {
         "hovertemplate": "sepal_length=%{x}<br>sepal_width=%{y}<br>species_id=%{marker.color}<extra></extra>",
         "legendgroup": "",
         "marker": {
          "color": [
           1,
           1,
           1,
           1,
           1,
           1,
           1,
           1,
           1,
           1,
           1,
           1,
           1,
           1,
           1,
           1,
           1,
           1,
           1,
           1,
           1,
           1,
           1,
           1,
           1,
           1,
           1,
           1,
           1,
           1,
           1,
           1,
           1,
           1,
           1,
           1,
           1,
           1,
           1,
           1,
           1,
           1,
           1,
           1,
           1,
           1,
           1,
           1,
           1,
           1,
           2,
           2,
           2,
           2,
           2,
           2,
           2,
           2,
           2,
           2,
           2,
           2,
           2,
           2,
           2,
           2,
           2,
           2,
           2,
           2,
           2,
           2,
           2,
           2,
           2,
           2,
           2,
           2,
           2,
           2,
           2,
           2,
           2,
           2,
           2,
           2,
           2,
           2,
           2,
           2,
           2,
           2,
           2,
           2,
           2,
           2,
           2,
           2,
           2,
           2,
           3,
           3,
           3,
           3,
           3,
           3,
           3,
           3,
           3,
           3,
           3,
           3,
           3,
           3,
           3,
           3,
           3,
           3,
           3,
           3,
           3,
           3,
           3,
           3,
           3,
           3,
           3,
           3,
           3,
           3,
           3,
           3,
           3,
           3,
           3,
           3,
           3,
           3,
           3,
           3,
           3,
           3,
           3,
           3,
           3,
           3,
           3,
           3,
           3,
           3
          ],
          "coloraxis": "coloraxis",
          "symbol": "circle"
         },
         "mode": "markers",
         "name": "",
         "orientation": "v",
         "showlegend": false,
         "type": "scatter",
         "x": [
          5.1,
          4.9,
          4.7,
          4.6,
          5,
          5.4,
          4.6,
          5,
          4.4,
          4.9,
          5.4,
          4.8,
          4.8,
          4.3,
          5.8,
          5.7,
          5.4,
          5.1,
          5.7,
          5.1,
          5.4,
          5.1,
          4.6,
          5.1,
          4.8,
          5,
          5,
          5.2,
          5.2,
          4.7,
          4.8,
          5.4,
          5.2,
          5.5,
          4.9,
          5,
          5.5,
          4.9,
          4.4,
          5.1,
          5,
          4.5,
          4.4,
          5,
          5.1,
          4.8,
          5.1,
          4.6,
          5.3,
          5,
          7,
          6.4,
          6.9,
          5.5,
          6.5,
          5.7,
          6.3,
          4.9,
          6.6,
          5.2,
          5,
          5.9,
          6,
          6.1,
          5.6,
          6.7,
          5.6,
          5.8,
          6.2,
          5.6,
          5.9,
          6.1,
          6.3,
          6.1,
          6.4,
          6.6,
          6.8,
          6.7,
          6,
          5.7,
          5.5,
          5.5,
          5.8,
          6,
          5.4,
          6,
          6.7,
          6.3,
          5.6,
          5.5,
          5.5,
          6.1,
          5.8,
          5,
          5.6,
          5.7,
          5.7,
          6.2,
          5.1,
          5.7,
          6.3,
          5.8,
          7.1,
          6.3,
          6.5,
          7.6,
          4.9,
          7.3,
          6.7,
          7.2,
          6.5,
          6.4,
          6.8,
          5.7,
          5.8,
          6.4,
          6.5,
          7.7,
          7.7,
          6,
          6.9,
          5.6,
          7.7,
          6.3,
          6.7,
          7.2,
          6.2,
          6.1,
          6.4,
          7.2,
          7.4,
          7.9,
          6.4,
          6.3,
          6.1,
          7.7,
          6.3,
          6.4,
          6,
          6.9,
          6.7,
          6.9,
          5.8,
          6.8,
          6.7,
          6.7,
          6.3,
          6.5,
          6.2,
          5.9
         ],
         "xaxis": "x",
         "y": [
          3.5,
          3,
          3.2,
          3.1,
          3.6,
          3.9,
          3.4,
          3.4,
          2.9,
          3.1,
          3.7,
          3.4,
          3,
          3,
          4,
          4.4,
          3.9,
          3.5,
          3.8,
          3.8,
          3.4,
          3.7,
          3.6,
          3.3,
          3.4,
          3,
          3.4,
          3.5,
          3.4,
          3.2,
          3.1,
          3.4,
          4.1,
          4.2,
          3.1,
          3.2,
          3.5,
          3.1,
          3,
          3.4,
          3.5,
          2.3,
          3.2,
          3.5,
          3.8,
          3,
          3.8,
          3.2,
          3.7,
          3.3,
          3.2,
          3.2,
          3.1,
          2.3,
          2.8,
          2.8,
          3.3,
          2.4,
          2.9,
          2.7,
          2,
          3,
          2.2,
          2.9,
          2.9,
          3.1,
          3,
          2.7,
          2.2,
          2.5,
          3.2,
          2.8,
          2.5,
          2.8,
          2.9,
          3,
          2.8,
          3,
          2.9,
          2.6,
          2.4,
          2.4,
          2.7,
          2.7,
          3,
          3.4,
          3.1,
          2.3,
          3,
          2.5,
          2.6,
          3,
          2.6,
          2.3,
          2.7,
          3,
          2.9,
          2.9,
          2.5,
          2.8,
          3.3,
          2.7,
          3,
          2.9,
          3,
          3,
          2.5,
          2.9,
          2.5,
          3.6,
          3.2,
          2.7,
          3,
          2.5,
          2.8,
          3.2,
          3,
          3.8,
          2.6,
          2.2,
          3.2,
          2.8,
          2.8,
          2.7,
          3.3,
          3.2,
          2.8,
          3,
          2.8,
          3,
          2.8,
          3.8,
          2.8,
          2.8,
          2.6,
          3,
          3.4,
          3.1,
          3,
          3.1,
          3.1,
          3.1,
          2.7,
          3.2,
          3.3,
          3,
          2.5,
          3,
          3.4,
          3
         ],
         "yaxis": "y"
        }
       ],
       "layout": {
        "coloraxis": {
         "colorbar": {
          "title": {
           "text": "species_id"
          }
         },
         "colorscale": [
          [
           0,
           "#0d0887"
          ],
          [
           0.1111111111111111,
           "#46039f"
          ],
          [
           0.2222222222222222,
           "#7201a8"
          ],
          [
           0.3333333333333333,
           "#9c179e"
          ],
          [
           0.4444444444444444,
           "#bd3786"
          ],
          [
           0.5555555555555556,
           "#d8576b"
          ],
          [
           0.6666666666666666,
           "#ed7953"
          ],
          [
           0.7777777777777778,
           "#fb9f3a"
          ],
          [
           0.8888888888888888,
           "#fdca26"
          ],
          [
           1,
           "#f0f921"
          ]
         ]
        },
        "legend": {
         "tracegroupgap": 0
        },
        "margin": {
         "t": 60
        },
        "template": {
         "data": {
          "bar": [
           {
            "error_x": {
             "color": "#2a3f5f"
            },
            "error_y": {
             "color": "#2a3f5f"
            },
            "marker": {
             "line": {
              "color": "#E5ECF6",
              "width": 0.5
             }
            },
            "type": "bar"
           }
          ],
          "barpolar": [
           {
            "marker": {
             "line": {
              "color": "#E5ECF6",
              "width": 0.5
             }
            },
            "type": "barpolar"
           }
          ],
          "carpet": [
           {
            "aaxis": {
             "endlinecolor": "#2a3f5f",
             "gridcolor": "white",
             "linecolor": "white",
             "minorgridcolor": "white",
             "startlinecolor": "#2a3f5f"
            },
            "baxis": {
             "endlinecolor": "#2a3f5f",
             "gridcolor": "white",
             "linecolor": "white",
             "minorgridcolor": "white",
             "startlinecolor": "#2a3f5f"
            },
            "type": "carpet"
           }
          ],
          "choropleth": [
           {
            "colorbar": {
             "outlinewidth": 0,
             "ticks": ""
            },
            "type": "choropleth"
           }
          ],
          "contour": [
           {
            "colorbar": {
             "outlinewidth": 0,
             "ticks": ""
            },
            "colorscale": [
             [
              0,
              "#0d0887"
             ],
             [
              0.1111111111111111,
              "#46039f"
             ],
             [
              0.2222222222222222,
              "#7201a8"
             ],
             [
              0.3333333333333333,
              "#9c179e"
             ],
             [
              0.4444444444444444,
              "#bd3786"
             ],
             [
              0.5555555555555556,
              "#d8576b"
             ],
             [
              0.6666666666666666,
              "#ed7953"
             ],
             [
              0.7777777777777778,
              "#fb9f3a"
             ],
             [
              0.8888888888888888,
              "#fdca26"
             ],
             [
              1,
              "#f0f921"
             ]
            ],
            "type": "contour"
           }
          ],
          "contourcarpet": [
           {
            "colorbar": {
             "outlinewidth": 0,
             "ticks": ""
            },
            "type": "contourcarpet"
           }
          ],
          "heatmap": [
           {
            "colorbar": {
             "outlinewidth": 0,
             "ticks": ""
            },
            "colorscale": [
             [
              0,
              "#0d0887"
             ],
             [
              0.1111111111111111,
              "#46039f"
             ],
             [
              0.2222222222222222,
              "#7201a8"
             ],
             [
              0.3333333333333333,
              "#9c179e"
             ],
             [
              0.4444444444444444,
              "#bd3786"
             ],
             [
              0.5555555555555556,
              "#d8576b"
             ],
             [
              0.6666666666666666,
              "#ed7953"
             ],
             [
              0.7777777777777778,
              "#fb9f3a"
             ],
             [
              0.8888888888888888,
              "#fdca26"
             ],
             [
              1,
              "#f0f921"
             ]
            ],
            "type": "heatmap"
           }
          ],
          "heatmapgl": [
           {
            "colorbar": {
             "outlinewidth": 0,
             "ticks": ""
            },
            "colorscale": [
             [
              0,
              "#0d0887"
             ],
             [
              0.1111111111111111,
              "#46039f"
             ],
             [
              0.2222222222222222,
              "#7201a8"
             ],
             [
              0.3333333333333333,
              "#9c179e"
             ],
             [
              0.4444444444444444,
              "#bd3786"
             ],
             [
              0.5555555555555556,
              "#d8576b"
             ],
             [
              0.6666666666666666,
              "#ed7953"
             ],
             [
              0.7777777777777778,
              "#fb9f3a"
             ],
             [
              0.8888888888888888,
              "#fdca26"
             ],
             [
              1,
              "#f0f921"
             ]
            ],
            "type": "heatmapgl"
           }
          ],
          "histogram": [
           {
            "marker": {
             "colorbar": {
              "outlinewidth": 0,
              "ticks": ""
             }
            },
            "type": "histogram"
           }
          ],
          "histogram2d": [
           {
            "colorbar": {
             "outlinewidth": 0,
             "ticks": ""
            },
            "colorscale": [
             [
              0,
              "#0d0887"
             ],
             [
              0.1111111111111111,
              "#46039f"
             ],
             [
              0.2222222222222222,
              "#7201a8"
             ],
             [
              0.3333333333333333,
              "#9c179e"
             ],
             [
              0.4444444444444444,
              "#bd3786"
             ],
             [
              0.5555555555555556,
              "#d8576b"
             ],
             [
              0.6666666666666666,
              "#ed7953"
             ],
             [
              0.7777777777777778,
              "#fb9f3a"
             ],
             [
              0.8888888888888888,
              "#fdca26"
             ],
             [
              1,
              "#f0f921"
             ]
            ],
            "type": "histogram2d"
           }
          ],
          "histogram2dcontour": [
           {
            "colorbar": {
             "outlinewidth": 0,
             "ticks": ""
            },
            "colorscale": [
             [
              0,
              "#0d0887"
             ],
             [
              0.1111111111111111,
              "#46039f"
             ],
             [
              0.2222222222222222,
              "#7201a8"
             ],
             [
              0.3333333333333333,
              "#9c179e"
             ],
             [
              0.4444444444444444,
              "#bd3786"
             ],
             [
              0.5555555555555556,
              "#d8576b"
             ],
             [
              0.6666666666666666,
              "#ed7953"
             ],
             [
              0.7777777777777778,
              "#fb9f3a"
             ],
             [
              0.8888888888888888,
              "#fdca26"
             ],
             [
              1,
              "#f0f921"
             ]
            ],
            "type": "histogram2dcontour"
           }
          ],
          "mesh3d": [
           {
            "colorbar": {
             "outlinewidth": 0,
             "ticks": ""
            },
            "type": "mesh3d"
           }
          ],
          "parcoords": [
           {
            "line": {
             "colorbar": {
              "outlinewidth": 0,
              "ticks": ""
             }
            },
            "type": "parcoords"
           }
          ],
          "pie": [
           {
            "automargin": true,
            "type": "pie"
           }
          ],
          "scatter": [
           {
            "marker": {
             "colorbar": {
              "outlinewidth": 0,
              "ticks": ""
             }
            },
            "type": "scatter"
           }
          ],
          "scatter3d": [
           {
            "line": {
             "colorbar": {
              "outlinewidth": 0,
              "ticks": ""
             }
            },
            "marker": {
             "colorbar": {
              "outlinewidth": 0,
              "ticks": ""
             }
            },
            "type": "scatter3d"
           }
          ],
          "scattercarpet": [
           {
            "marker": {
             "colorbar": {
              "outlinewidth": 0,
              "ticks": ""
             }
            },
            "type": "scattercarpet"
           }
          ],
          "scattergeo": [
           {
            "marker": {
             "colorbar": {
              "outlinewidth": 0,
              "ticks": ""
             }
            },
            "type": "scattergeo"
           }
          ],
          "scattergl": [
           {
            "marker": {
             "colorbar": {
              "outlinewidth": 0,
              "ticks": ""
             }
            },
            "type": "scattergl"
           }
          ],
          "scattermapbox": [
           {
            "marker": {
             "colorbar": {
              "outlinewidth": 0,
              "ticks": ""
             }
            },
            "type": "scattermapbox"
           }
          ],
          "scatterpolar": [
           {
            "marker": {
             "colorbar": {
              "outlinewidth": 0,
              "ticks": ""
             }
            },
            "type": "scatterpolar"
           }
          ],
          "scatterpolargl": [
           {
            "marker": {
             "colorbar": {
              "outlinewidth": 0,
              "ticks": ""
             }
            },
            "type": "scatterpolargl"
           }
          ],
          "scatterternary": [
           {
            "marker": {
             "colorbar": {
              "outlinewidth": 0,
              "ticks": ""
             }
            },
            "type": "scatterternary"
           }
          ],
          "surface": [
           {
            "colorbar": {
             "outlinewidth": 0,
             "ticks": ""
            },
            "colorscale": [
             [
              0,
              "#0d0887"
             ],
             [
              0.1111111111111111,
              "#46039f"
             ],
             [
              0.2222222222222222,
              "#7201a8"
             ],
             [
              0.3333333333333333,
              "#9c179e"
             ],
             [
              0.4444444444444444,
              "#bd3786"
             ],
             [
              0.5555555555555556,
              "#d8576b"
             ],
             [
              0.6666666666666666,
              "#ed7953"
             ],
             [
              0.7777777777777778,
              "#fb9f3a"
             ],
             [
              0.8888888888888888,
              "#fdca26"
             ],
             [
              1,
              "#f0f921"
             ]
            ],
            "type": "surface"
           }
          ],
          "table": [
           {
            "cells": {
             "fill": {
              "color": "#EBF0F8"
             },
             "line": {
              "color": "white"
             }
            },
            "header": {
             "fill": {
              "color": "#C8D4E3"
             },
             "line": {
              "color": "white"
             }
            },
            "type": "table"
           }
          ]
         },
         "layout": {
          "annotationdefaults": {
           "arrowcolor": "#2a3f5f",
           "arrowhead": 0,
           "arrowwidth": 1
          },
          "autotypenumbers": "strict",
          "coloraxis": {
           "colorbar": {
            "outlinewidth": 0,
            "ticks": ""
           }
          },
          "colorscale": {
           "diverging": [
            [
             0,
             "#8e0152"
            ],
            [
             0.1,
             "#c51b7d"
            ],
            [
             0.2,
             "#de77ae"
            ],
            [
             0.3,
             "#f1b6da"
            ],
            [
             0.4,
             "#fde0ef"
            ],
            [
             0.5,
             "#f7f7f7"
            ],
            [
             0.6,
             "#e6f5d0"
            ],
            [
             0.7,
             "#b8e186"
            ],
            [
             0.8,
             "#7fbc41"
            ],
            [
             0.9,
             "#4d9221"
            ],
            [
             1,
             "#276419"
            ]
           ],
           "sequential": [
            [
             0,
             "#0d0887"
            ],
            [
             0.1111111111111111,
             "#46039f"
            ],
            [
             0.2222222222222222,
             "#7201a8"
            ],
            [
             0.3333333333333333,
             "#9c179e"
            ],
            [
             0.4444444444444444,
             "#bd3786"
            ],
            [
             0.5555555555555556,
             "#d8576b"
            ],
            [
             0.6666666666666666,
             "#ed7953"
            ],
            [
             0.7777777777777778,
             "#fb9f3a"
            ],
            [
             0.8888888888888888,
             "#fdca26"
            ],
            [
             1,
             "#f0f921"
            ]
           ],
           "sequentialminus": [
            [
             0,
             "#0d0887"
            ],
            [
             0.1111111111111111,
             "#46039f"
            ],
            [
             0.2222222222222222,
             "#7201a8"
            ],
            [
             0.3333333333333333,
             "#9c179e"
            ],
            [
             0.4444444444444444,
             "#bd3786"
            ],
            [
             0.5555555555555556,
             "#d8576b"
            ],
            [
             0.6666666666666666,
             "#ed7953"
            ],
            [
             0.7777777777777778,
             "#fb9f3a"
            ],
            [
             0.8888888888888888,
             "#fdca26"
            ],
            [
             1,
             "#f0f921"
            ]
           ]
          },
          "colorway": [
           "#636efa",
           "#EF553B",
           "#00cc96",
           "#ab63fa",
           "#FFA15A",
           "#19d3f3",
           "#FF6692",
           "#B6E880",
           "#FF97FF",
           "#FECB52"
          ],
          "font": {
           "color": "#2a3f5f"
          },
          "geo": {
           "bgcolor": "white",
           "lakecolor": "white",
           "landcolor": "#E5ECF6",
           "showlakes": true,
           "showland": true,
           "subunitcolor": "white"
          },
          "hoverlabel": {
           "align": "left"
          },
          "hovermode": "closest",
          "mapbox": {
           "style": "light"
          },
          "paper_bgcolor": "white",
          "plot_bgcolor": "#E5ECF6",
          "polar": {
           "angularaxis": {
            "gridcolor": "white",
            "linecolor": "white",
            "ticks": ""
           },
           "bgcolor": "#E5ECF6",
           "radialaxis": {
            "gridcolor": "white",
            "linecolor": "white",
            "ticks": ""
           }
          },
          "scene": {
           "xaxis": {
            "backgroundcolor": "#E5ECF6",
            "gridcolor": "white",
            "gridwidth": 2,
            "linecolor": "white",
            "showbackground": true,
            "ticks": "",
            "zerolinecolor": "white"
           },
           "yaxis": {
            "backgroundcolor": "#E5ECF6",
            "gridcolor": "white",
            "gridwidth": 2,
            "linecolor": "white",
            "showbackground": true,
            "ticks": "",
            "zerolinecolor": "white"
           },
           "zaxis": {
            "backgroundcolor": "#E5ECF6",
            "gridcolor": "white",
            "gridwidth": 2,
            "linecolor": "white",
            "showbackground": true,
            "ticks": "",
            "zerolinecolor": "white"
           }
          },
          "shapedefaults": {
           "line": {
            "color": "#2a3f5f"
           }
          },
          "ternary": {
           "aaxis": {
            "gridcolor": "white",
            "linecolor": "white",
            "ticks": ""
           },
           "baxis": {
            "gridcolor": "white",
            "linecolor": "white",
            "ticks": ""
           },
           "bgcolor": "#E5ECF6",
           "caxis": {
            "gridcolor": "white",
            "linecolor": "white",
            "ticks": ""
           }
          },
          "title": {
           "x": 0.05
          },
          "xaxis": {
           "automargin": true,
           "gridcolor": "white",
           "linecolor": "white",
           "ticks": "",
           "title": {
            "standoff": 15
           },
           "zerolinecolor": "white",
           "zerolinewidth": 2
          },
          "yaxis": {
           "automargin": true,
           "gridcolor": "white",
           "linecolor": "white",
           "ticks": "",
           "title": {
            "standoff": 15
           },
           "zerolinecolor": "white",
           "zerolinewidth": 2
          }
         }
        },
        "xaxis": {
         "anchor": "y",
         "domain": [
          0,
          1
         ],
         "title": {
          "text": "sepal_length"
         }
        },
        "yaxis": {
         "anchor": "x",
         "domain": [
          0,
          1
         ],
         "title": {
          "text": "sepal_width"
         }
        }
       }
      }
     },
     "metadata": {}
    },
    {
     "output_type": "display_data",
     "data": {
      "application/vnd.plotly.v1+json": {
       "config": {
        "plotlyServerURL": "https://plot.ly"
       },
       "data": [
        {
         "contours": {
          "coloring": "none"
         },
         "hovertemplate": "species=setosa<br>sepal_length=%{x}<br>sepal_width=%{y}<br>count=%{z}<extra></extra>",
         "legendgroup": "setosa",
         "line": {
          "color": "#636efa"
         },
         "name": "setosa",
         "showlegend": true,
         "type": "histogram2dcontour",
         "x": [
          5.1,
          4.9,
          4.7,
          4.6,
          5,
          5.4,
          4.6,
          5,
          4.4,
          4.9,
          5.4,
          4.8,
          4.8,
          4.3,
          5.8,
          5.7,
          5.4,
          5.1,
          5.7,
          5.1,
          5.4,
          5.1,
          4.6,
          5.1,
          4.8,
          5,
          5,
          5.2,
          5.2,
          4.7,
          4.8,
          5.4,
          5.2,
          5.5,
          4.9,
          5,
          5.5,
          4.9,
          4.4,
          5.1,
          5,
          4.5,
          4.4,
          5,
          5.1,
          4.8,
          5.1,
          4.6,
          5.3,
          5
         ],
         "xaxis": "x",
         "xbingroup": "x",
         "y": [
          3.5,
          3,
          3.2,
          3.1,
          3.6,
          3.9,
          3.4,
          3.4,
          2.9,
          3.1,
          3.7,
          3.4,
          3,
          3,
          4,
          4.4,
          3.9,
          3.5,
          3.8,
          3.8,
          3.4,
          3.7,
          3.6,
          3.3,
          3.4,
          3,
          3.4,
          3.5,
          3.4,
          3.2,
          3.1,
          3.4,
          4.1,
          4.2,
          3.1,
          3.2,
          3.5,
          3.1,
          3,
          3.4,
          3.5,
          2.3,
          3.2,
          3.5,
          3.8,
          3,
          3.8,
          3.2,
          3.7,
          3.3
         ],
         "yaxis": "y",
         "ybingroup": "y"
        },
        {
         "alignmentgroup": "True",
         "bingroup": "y",
         "hovertemplate": "species=setosa<br>sepal_width=%{y}<br>count=%{x}<extra></extra>",
         "legendgroup": "setosa",
         "marker": {
          "color": "#636efa"
         },
         "name": "setosa",
         "offsetgroup": "setosa",
         "opacity": 0.5,
         "showlegend": false,
         "type": "histogram",
         "xaxis": "x2",
         "y": [
          3.5,
          3,
          3.2,
          3.1,
          3.6,
          3.9,
          3.4,
          3.4,
          2.9,
          3.1,
          3.7,
          3.4,
          3,
          3,
          4,
          4.4,
          3.9,
          3.5,
          3.8,
          3.8,
          3.4,
          3.7,
          3.6,
          3.3,
          3.4,
          3,
          3.4,
          3.5,
          3.4,
          3.2,
          3.1,
          3.4,
          4.1,
          4.2,
          3.1,
          3.2,
          3.5,
          3.1,
          3,
          3.4,
          3.5,
          2.3,
          3.2,
          3.5,
          3.8,
          3,
          3.8,
          3.2,
          3.7,
          3.3
         ],
         "yaxis": "y2"
        },
        {
         "contours": {
          "coloring": "none"
         },
         "hovertemplate": "species=versicolor<br>sepal_length=%{x}<br>sepal_width=%{y}<br>count=%{z}<extra></extra>",
         "legendgroup": "versicolor",
         "line": {
          "color": "#EF553B"
         },
         "name": "versicolor",
         "showlegend": true,
         "type": "histogram2dcontour",
         "x": [
          7,
          6.4,
          6.9,
          5.5,
          6.5,
          5.7,
          6.3,
          4.9,
          6.6,
          5.2,
          5,
          5.9,
          6,
          6.1,
          5.6,
          6.7,
          5.6,
          5.8,
          6.2,
          5.6,
          5.9,
          6.1,
          6.3,
          6.1,
          6.4,
          6.6,
          6.8,
          6.7,
          6,
          5.7,
          5.5,
          5.5,
          5.8,
          6,
          5.4,
          6,
          6.7,
          6.3,
          5.6,
          5.5,
          5.5,
          6.1,
          5.8,
          5,
          5.6,
          5.7,
          5.7,
          6.2,
          5.1,
          5.7
         ],
         "xaxis": "x",
         "xbingroup": "x",
         "y": [
          3.2,
          3.2,
          3.1,
          2.3,
          2.8,
          2.8,
          3.3,
          2.4,
          2.9,
          2.7,
          2,
          3,
          2.2,
          2.9,
          2.9,
          3.1,
          3,
          2.7,
          2.2,
          2.5,
          3.2,
          2.8,
          2.5,
          2.8,
          2.9,
          3,
          2.8,
          3,
          2.9,
          2.6,
          2.4,
          2.4,
          2.7,
          2.7,
          3,
          3.4,
          3.1,
          2.3,
          3,
          2.5,
          2.6,
          3,
          2.6,
          2.3,
          2.7,
          3,
          2.9,
          2.9,
          2.5,
          2.8
         ],
         "yaxis": "y",
         "ybingroup": "y"
        },
        {
         "alignmentgroup": "True",
         "bingroup": "y",
         "hovertemplate": "species=versicolor<br>sepal_width=%{y}<br>count=%{x}<extra></extra>",
         "legendgroup": "versicolor",
         "marker": {
          "color": "#EF553B"
         },
         "name": "versicolor",
         "offsetgroup": "versicolor",
         "opacity": 0.5,
         "showlegend": false,
         "type": "histogram",
         "xaxis": "x2",
         "y": [
          3.2,
          3.2,
          3.1,
          2.3,
          2.8,
          2.8,
          3.3,
          2.4,
          2.9,
          2.7,
          2,
          3,
          2.2,
          2.9,
          2.9,
          3.1,
          3,
          2.7,
          2.2,
          2.5,
          3.2,
          2.8,
          2.5,
          2.8,
          2.9,
          3,
          2.8,
          3,
          2.9,
          2.6,
          2.4,
          2.4,
          2.7,
          2.7,
          3,
          3.4,
          3.1,
          2.3,
          3,
          2.5,
          2.6,
          3,
          2.6,
          2.3,
          2.7,
          3,
          2.9,
          2.9,
          2.5,
          2.8
         ],
         "yaxis": "y2"
        },
        {
         "contours": {
          "coloring": "none"
         },
         "hovertemplate": "species=virginica<br>sepal_length=%{x}<br>sepal_width=%{y}<br>count=%{z}<extra></extra>",
         "legendgroup": "virginica",
         "line": {
          "color": "#00cc96"
         },
         "name": "virginica",
         "showlegend": true,
         "type": "histogram2dcontour",
         "x": [
          6.3,
          5.8,
          7.1,
          6.3,
          6.5,
          7.6,
          4.9,
          7.3,
          6.7,
          7.2,
          6.5,
          6.4,
          6.8,
          5.7,
          5.8,
          6.4,
          6.5,
          7.7,
          7.7,
          6,
          6.9,
          5.6,
          7.7,
          6.3,
          6.7,
          7.2,
          6.2,
          6.1,
          6.4,
          7.2,
          7.4,
          7.9,
          6.4,
          6.3,
          6.1,
          7.7,
          6.3,
          6.4,
          6,
          6.9,
          6.7,
          6.9,
          5.8,
          6.8,
          6.7,
          6.7,
          6.3,
          6.5,
          6.2,
          5.9
         ],
         "xaxis": "x",
         "xbingroup": "x",
         "y": [
          3.3,
          2.7,
          3,
          2.9,
          3,
          3,
          2.5,
          2.9,
          2.5,
          3.6,
          3.2,
          2.7,
          3,
          2.5,
          2.8,
          3.2,
          3,
          3.8,
          2.6,
          2.2,
          3.2,
          2.8,
          2.8,
          2.7,
          3.3,
          3.2,
          2.8,
          3,
          2.8,
          3,
          2.8,
          3.8,
          2.8,
          2.8,
          2.6,
          3,
          3.4,
          3.1,
          3,
          3.1,
          3.1,
          3.1,
          2.7,
          3.2,
          3.3,
          3,
          2.5,
          3,
          3.4,
          3
         ],
         "yaxis": "y",
         "ybingroup": "y"
        },
        {
         "alignmentgroup": "True",
         "bingroup": "y",
         "hovertemplate": "species=virginica<br>sepal_width=%{y}<br>count=%{x}<extra></extra>",
         "legendgroup": "virginica",
         "marker": {
          "color": "#00cc96"
         },
         "name": "virginica",
         "offsetgroup": "virginica",
         "opacity": 0.5,
         "showlegend": false,
         "type": "histogram",
         "xaxis": "x2",
         "y": [
          3.3,
          2.7,
          3,
          2.9,
          3,
          3,
          2.5,
          2.9,
          2.5,
          3.6,
          3.2,
          2.7,
          3,
          2.5,
          2.8,
          3.2,
          3,
          3.8,
          2.6,
          2.2,
          3.2,
          2.8,
          2.8,
          2.7,
          3.3,
          3.2,
          2.8,
          3,
          2.8,
          3,
          2.8,
          3.8,
          2.8,
          2.8,
          2.6,
          3,
          3.4,
          3.1,
          3,
          3.1,
          3.1,
          3.1,
          2.7,
          3.2,
          3.3,
          3,
          2.5,
          3,
          3.4,
          3
         ],
         "yaxis": "y2"
        }
       ],
       "layout": {
        "barmode": "overlay",
        "legend": {
         "title": {
          "text": "species"
         },
         "tracegroupgap": 0
        },
        "margin": {
         "t": 60
        },
        "template": {
         "data": {
          "bar": [
           {
            "error_x": {
             "color": "#2a3f5f"
            },
            "error_y": {
             "color": "#2a3f5f"
            },
            "marker": {
             "line": {
              "color": "#E5ECF6",
              "width": 0.5
             }
            },
            "type": "bar"
           }
          ],
          "barpolar": [
           {
            "marker": {
             "line": {
              "color": "#E5ECF6",
              "width": 0.5
             }
            },
            "type": "barpolar"
           }
          ],
          "carpet": [
           {
            "aaxis": {
             "endlinecolor": "#2a3f5f",
             "gridcolor": "white",
             "linecolor": "white",
             "minorgridcolor": "white",
             "startlinecolor": "#2a3f5f"
            },
            "baxis": {
             "endlinecolor": "#2a3f5f",
             "gridcolor": "white",
             "linecolor": "white",
             "minorgridcolor": "white",
             "startlinecolor": "#2a3f5f"
            },
            "type": "carpet"
           }
          ],
          "choropleth": [
           {
            "colorbar": {
             "outlinewidth": 0,
             "ticks": ""
            },
            "type": "choropleth"
           }
          ],
          "contour": [
           {
            "colorbar": {
             "outlinewidth": 0,
             "ticks": ""
            },
            "colorscale": [
             [
              0,
              "#0d0887"
             ],
             [
              0.1111111111111111,
              "#46039f"
             ],
             [
              0.2222222222222222,
              "#7201a8"
             ],
             [
              0.3333333333333333,
              "#9c179e"
             ],
             [
              0.4444444444444444,
              "#bd3786"
             ],
             [
              0.5555555555555556,
              "#d8576b"
             ],
             [
              0.6666666666666666,
              "#ed7953"
             ],
             [
              0.7777777777777778,
              "#fb9f3a"
             ],
             [
              0.8888888888888888,
              "#fdca26"
             ],
             [
              1,
              "#f0f921"
             ]
            ],
            "type": "contour"
           }
          ],
          "contourcarpet": [
           {
            "colorbar": {
             "outlinewidth": 0,
             "ticks": ""
            },
            "type": "contourcarpet"
           }
          ],
          "heatmap": [
           {
            "colorbar": {
             "outlinewidth": 0,
             "ticks": ""
            },
            "colorscale": [
             [
              0,
              "#0d0887"
             ],
             [
              0.1111111111111111,
              "#46039f"
             ],
             [
              0.2222222222222222,
              "#7201a8"
             ],
             [
              0.3333333333333333,
              "#9c179e"
             ],
             [
              0.4444444444444444,
              "#bd3786"
             ],
             [
              0.5555555555555556,
              "#d8576b"
             ],
             [
              0.6666666666666666,
              "#ed7953"
             ],
             [
              0.7777777777777778,
              "#fb9f3a"
             ],
             [
              0.8888888888888888,
              "#fdca26"
             ],
             [
              1,
              "#f0f921"
             ]
            ],
            "type": "heatmap"
           }
          ],
          "heatmapgl": [
           {
            "colorbar": {
             "outlinewidth": 0,
             "ticks": ""
            },
            "colorscale": [
             [
              0,
              "#0d0887"
             ],
             [
              0.1111111111111111,
              "#46039f"
             ],
             [
              0.2222222222222222,
              "#7201a8"
             ],
             [
              0.3333333333333333,
              "#9c179e"
             ],
             [
              0.4444444444444444,
              "#bd3786"
             ],
             [
              0.5555555555555556,
              "#d8576b"
             ],
             [
              0.6666666666666666,
              "#ed7953"
             ],
             [
              0.7777777777777778,
              "#fb9f3a"
             ],
             [
              0.8888888888888888,
              "#fdca26"
             ],
             [
              1,
              "#f0f921"
             ]
            ],
            "type": "heatmapgl"
           }
          ],
          "histogram": [
           {
            "marker": {
             "colorbar": {
              "outlinewidth": 0,
              "ticks": ""
             }
            },
            "type": "histogram"
           }
          ],
          "histogram2d": [
           {
            "colorbar": {
             "outlinewidth": 0,
             "ticks": ""
            },
            "colorscale": [
             [
              0,
              "#0d0887"
             ],
             [
              0.1111111111111111,
              "#46039f"
             ],
             [
              0.2222222222222222,
              "#7201a8"
             ],
             [
              0.3333333333333333,
              "#9c179e"
             ],
             [
              0.4444444444444444,
              "#bd3786"
             ],
             [
              0.5555555555555556,
              "#d8576b"
             ],
             [
              0.6666666666666666,
              "#ed7953"
             ],
             [
              0.7777777777777778,
              "#fb9f3a"
             ],
             [
              0.8888888888888888,
              "#fdca26"
             ],
             [
              1,
              "#f0f921"
             ]
            ],
            "type": "histogram2d"
           }
          ],
          "histogram2dcontour": [
           {
            "colorbar": {
             "outlinewidth": 0,
             "ticks": ""
            },
            "colorscale": [
             [
              0,
              "#0d0887"
             ],
             [
              0.1111111111111111,
              "#46039f"
             ],
             [
              0.2222222222222222,
              "#7201a8"
             ],
             [
              0.3333333333333333,
              "#9c179e"
             ],
             [
              0.4444444444444444,
              "#bd3786"
             ],
             [
              0.5555555555555556,
              "#d8576b"
             ],
             [
              0.6666666666666666,
              "#ed7953"
             ],
             [
              0.7777777777777778,
              "#fb9f3a"
             ],
             [
              0.8888888888888888,
              "#fdca26"
             ],
             [
              1,
              "#f0f921"
             ]
            ],
            "type": "histogram2dcontour"
           }
          ],
          "mesh3d": [
           {
            "colorbar": {
             "outlinewidth": 0,
             "ticks": ""
            },
            "type": "mesh3d"
           }
          ],
          "parcoords": [
           {
            "line": {
             "colorbar": {
              "outlinewidth": 0,
              "ticks": ""
             }
            },
            "type": "parcoords"
           }
          ],
          "pie": [
           {
            "automargin": true,
            "type": "pie"
           }
          ],
          "scatter": [
           {
            "marker": {
             "colorbar": {
              "outlinewidth": 0,
              "ticks": ""
             }
            },
            "type": "scatter"
           }
          ],
          "scatter3d": [
           {
            "line": {
             "colorbar": {
              "outlinewidth": 0,
              "ticks": ""
             }
            },
            "marker": {
             "colorbar": {
              "outlinewidth": 0,
              "ticks": ""
             }
            },
            "type": "scatter3d"
           }
          ],
          "scattercarpet": [
           {
            "marker": {
             "colorbar": {
              "outlinewidth": 0,
              "ticks": ""
             }
            },
            "type": "scattercarpet"
           }
          ],
          "scattergeo": [
           {
            "marker": {
             "colorbar": {
              "outlinewidth": 0,
              "ticks": ""
             }
            },
            "type": "scattergeo"
           }
          ],
          "scattergl": [
           {
            "marker": {
             "colorbar": {
              "outlinewidth": 0,
              "ticks": ""
             }
            },
            "type": "scattergl"
           }
          ],
          "scattermapbox": [
           {
            "marker": {
             "colorbar": {
              "outlinewidth": 0,
              "ticks": ""
             }
            },
            "type": "scattermapbox"
           }
          ],
          "scatterpolar": [
           {
            "marker": {
             "colorbar": {
              "outlinewidth": 0,
              "ticks": ""
             }
            },
            "type": "scatterpolar"
           }
          ],
          "scatterpolargl": [
           {
            "marker": {
             "colorbar": {
              "outlinewidth": 0,
              "ticks": ""
             }
            },
            "type": "scatterpolargl"
           }
          ],
          "scatterternary": [
           {
            "marker": {
             "colorbar": {
              "outlinewidth": 0,
              "ticks": ""
             }
            },
            "type": "scatterternary"
           }
          ],
          "surface": [
           {
            "colorbar": {
             "outlinewidth": 0,
             "ticks": ""
            },
            "colorscale": [
             [
              0,
              "#0d0887"
             ],
             [
              0.1111111111111111,
              "#46039f"
             ],
             [
              0.2222222222222222,
              "#7201a8"
             ],
             [
              0.3333333333333333,
              "#9c179e"
             ],
             [
              0.4444444444444444,
              "#bd3786"
             ],
             [
              0.5555555555555556,
              "#d8576b"
             ],
             [
              0.6666666666666666,
              "#ed7953"
             ],
             [
              0.7777777777777778,
              "#fb9f3a"
             ],
             [
              0.8888888888888888,
              "#fdca26"
             ],
             [
              1,
              "#f0f921"
             ]
            ],
            "type": "surface"
           }
          ],
          "table": [
           {
            "cells": {
             "fill": {
              "color": "#EBF0F8"
             },
             "line": {
              "color": "white"
             }
            },
            "header": {
             "fill": {
              "color": "#C8D4E3"
             },
             "line": {
              "color": "white"
             }
            },
            "type": "table"
           }
          ]
         },
         "layout": {
          "annotationdefaults": {
           "arrowcolor": "#2a3f5f",
           "arrowhead": 0,
           "arrowwidth": 1
          },
          "autotypenumbers": "strict",
          "coloraxis": {
           "colorbar": {
            "outlinewidth": 0,
            "ticks": ""
           }
          },
          "colorscale": {
           "diverging": [
            [
             0,
             "#8e0152"
            ],
            [
             0.1,
             "#c51b7d"
            ],
            [
             0.2,
             "#de77ae"
            ],
            [
             0.3,
             "#f1b6da"
            ],
            [
             0.4,
             "#fde0ef"
            ],
            [
             0.5,
             "#f7f7f7"
            ],
            [
             0.6,
             "#e6f5d0"
            ],
            [
             0.7,
             "#b8e186"
            ],
            [
             0.8,
             "#7fbc41"
            ],
            [
             0.9,
             "#4d9221"
            ],
            [
             1,
             "#276419"
            ]
           ],
           "sequential": [
            [
             0,
             "#0d0887"
            ],
            [
             0.1111111111111111,
             "#46039f"
            ],
            [
             0.2222222222222222,
             "#7201a8"
            ],
            [
             0.3333333333333333,
             "#9c179e"
            ],
            [
             0.4444444444444444,
             "#bd3786"
            ],
            [
             0.5555555555555556,
             "#d8576b"
            ],
            [
             0.6666666666666666,
             "#ed7953"
            ],
            [
             0.7777777777777778,
             "#fb9f3a"
            ],
            [
             0.8888888888888888,
             "#fdca26"
            ],
            [
             1,
             "#f0f921"
            ]
           ],
           "sequentialminus": [
            [
             0,
             "#0d0887"
            ],
            [
             0.1111111111111111,
             "#46039f"
            ],
            [
             0.2222222222222222,
             "#7201a8"
            ],
            [
             0.3333333333333333,
             "#9c179e"
            ],
            [
             0.4444444444444444,
             "#bd3786"
            ],
            [
             0.5555555555555556,
             "#d8576b"
            ],
            [
             0.6666666666666666,
             "#ed7953"
            ],
            [
             0.7777777777777778,
             "#fb9f3a"
            ],
            [
             0.8888888888888888,
             "#fdca26"
            ],
            [
             1,
             "#f0f921"
            ]
           ]
          },
          "colorway": [
           "#636efa",
           "#EF553B",
           "#00cc96",
           "#ab63fa",
           "#FFA15A",
           "#19d3f3",
           "#FF6692",
           "#B6E880",
           "#FF97FF",
           "#FECB52"
          ],
          "font": {
           "color": "#2a3f5f"
          },
          "geo": {
           "bgcolor": "white",
           "lakecolor": "white",
           "landcolor": "#E5ECF6",
           "showlakes": true,
           "showland": true,
           "subunitcolor": "white"
          },
          "hoverlabel": {
           "align": "left"
          },
          "hovermode": "closest",
          "mapbox": {
           "style": "light"
          },
          "paper_bgcolor": "white",
          "plot_bgcolor": "#E5ECF6",
          "polar": {
           "angularaxis": {
            "gridcolor": "white",
            "linecolor": "white",
            "ticks": ""
           },
           "bgcolor": "#E5ECF6",
           "radialaxis": {
            "gridcolor": "white",
            "linecolor": "white",
            "ticks": ""
           }
          },
          "scene": {
           "xaxis": {
            "backgroundcolor": "#E5ECF6",
            "gridcolor": "white",
            "gridwidth": 2,
            "linecolor": "white",
            "showbackground": true,
            "ticks": "",
            "zerolinecolor": "white"
           },
           "yaxis": {
            "backgroundcolor": "#E5ECF6",
            "gridcolor": "white",
            "gridwidth": 2,
            "linecolor": "white",
            "showbackground": true,
            "ticks": "",
            "zerolinecolor": "white"
           },
           "zaxis": {
            "backgroundcolor": "#E5ECF6",
            "gridcolor": "white",
            "gridwidth": 2,
            "linecolor": "white",
            "showbackground": true,
            "ticks": "",
            "zerolinecolor": "white"
           }
          },
          "shapedefaults": {
           "line": {
            "color": "#2a3f5f"
           }
          },
          "ternary": {
           "aaxis": {
            "gridcolor": "white",
            "linecolor": "white",
            "ticks": ""
           },
           "baxis": {
            "gridcolor": "white",
            "linecolor": "white",
            "ticks": ""
           },
           "bgcolor": "#E5ECF6",
           "caxis": {
            "gridcolor": "white",
            "linecolor": "white",
            "ticks": ""
           }
          },
          "title": {
           "x": 0.05
          },
          "xaxis": {
           "automargin": true,
           "gridcolor": "white",
           "linecolor": "white",
           "ticks": "",
           "title": {
            "standoff": 15
           },
           "zerolinecolor": "white",
           "zerolinewidth": 2
          },
          "yaxis": {
           "automargin": true,
           "gridcolor": "white",
           "linecolor": "white",
           "ticks": "",
           "title": {
            "standoff": 15
           },
           "zerolinecolor": "white",
           "zerolinewidth": 2
          }
         }
        },
        "xaxis": {
         "anchor": "y",
         "domain": [
          0,
          0.7363
         ],
         "title": {
          "text": "sepal_length"
         }
        },
        "xaxis2": {
         "anchor": "y2",
         "domain": [
          0.7413,
          1
         ],
         "matches": "x2",
         "showgrid": true,
         "showline": false,
         "showticklabels": false,
         "ticks": ""
        },
        "yaxis": {
         "anchor": "x",
         "domain": [
          0,
          1
         ],
         "title": {
          "text": "sepal_width"
         }
        },
        "yaxis2": {
         "anchor": "x2",
         "domain": [
          0,
          1
         ],
         "matches": "y",
         "showgrid": true,
         "showticklabels": false
        }
       }
      }
     },
     "metadata": {}
    }
   ],
   "source": [
    "fig1 = px.scatter(df,x=x,y=y, color= color)\n",
    "fig2 = px.density_contour(df,x=x,y=y, color= 'species', marginal_y='histogram')\n",
    "fig1.show()\n",
    "fig2.show()"
   ]
  },
  {
   "source": [
    "Prediction Model"
   ],
   "cell_type": "markdown",
   "metadata": {}
  },
  {
   "cell_type": "code",
   "execution_count": 8,
   "metadata": {},
   "outputs": [],
   "source": [
    "df = df.sample(frac = 1)\n",
    "df_train = df.head(120)\n",
    "df_test = df.tail(30)\n",
    "x_train = np.array(df_train[['sepal_length', 'sepal_width', 'petal_length', 'petal_width']])\n",
    "y_train = np.array(df_train['species_id'])\n",
    "x_test = np.array(df_test[['sepal_length', 'sepal_width', 'petal_length', 'petal_width']])\n",
    "y_test = np.array(df_test['species_id'])\n",
    "\n",
    "# print(f'x_train:\\n{x_train}\\n')\n",
    "# print(f'y_train:\\n{y_train}\\n')\n",
    "# print(f'y_test:\\n{y_test}\\n')"
   ]
  },
  {
   "cell_type": "code",
   "execution_count": 8,
   "metadata": {},
   "outputs": [
    {
     "output_type": "execute_result",
     "data": {
      "text/plain": [
       "KNeighborsClassifier(n_neighbors=3)"
      ]
     },
     "metadata": {},
     "execution_count": 8
    }
   ],
   "source": [
    "from sklearn.neighbors import KNeighborsClassifier\n",
    "\n",
    "K = 3\n",
    "model = KNeighborsClassifier(n_neighbors=K)\n",
    "model.fit(x_train, y_train)"
   ]
  },
  {
   "cell_type": "code",
   "execution_count": 10,
   "metadata": {},
   "outputs": [
    {
     "output_type": "execute_result",
     "data": {
      "text/plain": [
       "array([1, 2, 1, 2, 3, 3, 2, 1, 1, 2, 3, 3, 1, 2, 1, 3, 3, 3, 3, 1, 2, 3,\n",
       "       2, 2, 1, 3, 1, 2, 2, 2], dtype=int64)"
      ]
     },
     "metadata": {},
     "execution_count": 10
    }
   ],
   "source": [
    "y_pred = model.predict(x_test)\n",
    "y_pred"
   ]
  },
  {
   "cell_type": "code",
   "execution_count": 14,
   "metadata": {},
   "outputs": [
    {
     "output_type": "stream",
     "name": "stdout",
     "text": [
      "Accuracy: 0.9666666666666667\n"
     ]
    }
   ],
   "source": [
    "from sklearn.metrics import accuracy_score\n",
    "\n",
    "acc = accuracy_score(y_test,y_pred)\n",
    "print(f'Accuracy: {acc}')"
   ]
  },
  {
   "source": [
    "Save the Model"
   ],
   "cell_type": "markdown",
   "metadata": {}
  },
  {
   "cell_type": "code",
   "execution_count": 12,
   "metadata": {},
   "outputs": [],
   "source": [
    "import pickle\n",
    "\n",
    "pickle.dump(model, open('model.pkl', 'wb'))"
   ]
  },
  {
   "cell_type": "code",
   "execution_count": 13,
   "metadata": {},
   "outputs": [
    {
     "output_type": "execute_result",
     "data": {
      "text/plain": [
       "     sepal_length  sepal_width  petal_length  petal_width     species  \\\n",
       "69            5.6          2.5           3.9          1.1  versicolor   \n",
       "80            5.5          2.4           3.8          1.1  versicolor   \n",
       "127           6.1          3.0           4.9          1.8   virginica   \n",
       "46            5.1          3.8           1.6          0.2      setosa   \n",
       "34            4.9          3.1           1.5          0.1      setosa   \n",
       "\n",
       "     species_id  \n",
       "69            2  \n",
       "80            2  \n",
       "127           3  \n",
       "46            1  \n",
       "34            1  "
      ],
      "text/html": "<div>\n<style scoped>\n    .dataframe tbody tr th:only-of-type {\n        vertical-align: middle;\n    }\n\n    .dataframe tbody tr th {\n        vertical-align: top;\n    }\n\n    .dataframe thead th {\n        text-align: right;\n    }\n</style>\n<table border=\"1\" class=\"dataframe\">\n  <thead>\n    <tr style=\"text-align: right;\">\n      <th></th>\n      <th>sepal_length</th>\n      <th>sepal_width</th>\n      <th>petal_length</th>\n      <th>petal_width</th>\n      <th>species</th>\n      <th>species_id</th>\n    </tr>\n  </thead>\n  <tbody>\n    <tr>\n      <th>69</th>\n      <td>5.6</td>\n      <td>2.5</td>\n      <td>3.9</td>\n      <td>1.1</td>\n      <td>versicolor</td>\n      <td>2</td>\n    </tr>\n    <tr>\n      <th>80</th>\n      <td>5.5</td>\n      <td>2.4</td>\n      <td>3.8</td>\n      <td>1.1</td>\n      <td>versicolor</td>\n      <td>2</td>\n    </tr>\n    <tr>\n      <th>127</th>\n      <td>6.1</td>\n      <td>3.0</td>\n      <td>4.9</td>\n      <td>1.8</td>\n      <td>virginica</td>\n      <td>3</td>\n    </tr>\n    <tr>\n      <th>46</th>\n      <td>5.1</td>\n      <td>3.8</td>\n      <td>1.6</td>\n      <td>0.2</td>\n      <td>setosa</td>\n      <td>1</td>\n    </tr>\n    <tr>\n      <th>34</th>\n      <td>4.9</td>\n      <td>3.1</td>\n      <td>1.5</td>\n      <td>0.1</td>\n      <td>setosa</td>\n      <td>1</td>\n    </tr>\n  </tbody>\n</table>\n</div>"
     },
     "metadata": {},
     "execution_count": 13
    }
   ],
   "source": [
    "df.head()"
   ]
  },
  {
   "cell_type": "code",
   "execution_count": 16,
   "metadata": {},
   "outputs": [
    {
     "output_type": "execute_result",
     "data": {
      "text/plain": [
       "array([1], dtype=int64)"
      ]
     },
     "metadata": {},
     "execution_count": 16
    }
   ],
   "source": [
    "arr = np.array([[5, 3, 1.5, 0.1]])\n",
    "pred = model.predict(arr)\n",
    "pred"
   ]
  }
 ]
}