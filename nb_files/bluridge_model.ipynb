{
 "metadata": {
  "language_info": {
   "codemirror_mode": {
    "name": "ipython",
    "version": 3
   },
   "file_extension": ".py",
   "mimetype": "text/x-python",
   "name": "python",
   "nbconvert_exporter": "python",
   "pygments_lexer": "ipython3",
   "version": "3.8.2"
  },
  "orig_nbformat": 2,
  "kernelspec": {
   "name": "python3",
   "display_name": "Python 3.8.2 64-bit ('stenv': venv)",
   "metadata": {
    "interpreter": {
     "hash": "c032c50abda3818c3a551e5c1c83809a12034cf08b0df0ee06d7cff4bb09fd19"
    }
   }
  }
 },
 "nbformat": 4,
 "nbformat_minor": 2,
 "cells": [
  {
   "cell_type": "code",
   "execution_count": 2,
   "metadata": {},
   "outputs": [],
   "source": [
    "# linear programming module\n",
    "import pulp\n",
    "from pulp import LpMaximize, LpProblem, LpStatus, lpSum, LpVariable"
   ]
  },
  {
   "cell_type": "code",
   "execution_count": 17,
   "metadata": {},
   "outputs": [],
   "source": [
    "# Create the model\n",
    "prob = LpProblem(name=\"Blue_Ridge_LP_Problem\",sense=LpMaximize)\n",
    "# Initialize the decision variables\n",
    "x1 = LpVariable(name=\"aqua\", lowBound=0, cat=\"Integer\")\n",
    "x2 = LpVariable(name=\"hydro\", lowBound=0, cat=\"Integer\")"
   ]
  },
  {
   "cell_type": "code",
   "execution_count": 18,
   "metadata": {},
   "outputs": [],
   "source": [
    "# Add the constraints to the model\n",
    "prob += (x1 + x2 <=200, \"pump_constraint\")\n",
    "prob += (9*x1 + 6*x2 <=1566, \"labor_constraint\")\n",
    "prob += (12*x1 + 16*x2 <=2880, \"tubing_constraint\")\n",
    "# Add the objective function to the model\n",
    "prob += 350*x1 + 300*x2"
   ]
  },
  {
   "cell_type": "code",
   "execution_count": 19,
   "metadata": {},
   "outputs": [],
   "source": [
    "# Solve the problem\n",
    "status = prob.solve()"
   ]
  },
  {
   "cell_type": "code",
   "execution_count": 20,
   "metadata": {},
   "outputs": [
    {
     "output_type": "stream",
     "name": "stdout",
     "text": [
      "Aqua-Spas: 122\nHydro-Luxes: 78\nProfit: $ 66100\n"
     ]
    }
   ],
   "source": [
    "print(f\"Aqua-Spas: {pulp.value(x1):.0f}\")\n",
    "print(f\"Hydro-Luxes: {pulp.value(x2):.0f}\")\n",
    "print(f\"Profit: $ {(350*pulp.value(x1)+300*pulp.value(x2)):.0f}\")"
   ]
  }
 ]
}